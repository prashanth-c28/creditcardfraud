{
 "cells": [
  {
   "cell_type": "markdown",
   "id": "fd3211dc",
   "metadata": {},
   "source": [
    "# Credit Card Fraud Detection project"
   ]
  },
  {
   "cell_type": "markdown",
   "id": "d592b10c",
   "metadata": {},
   "source": [
    "##### Objective :\n",
    "The objective of this project is classification of transactions out of a dataset containing genuine and fraud transactions. \n",
    "The emphasis would be on correctly identifying the fraud transactions as this is relatively more critical to banking business than misidentifying genuine transactions.     \n",
    "\n",
    "##### Challenges :  \n",
    "1) Fraud transactions make up only 0.17% of the total transactions in the dataset. This can severely hamper the learning ability of classification models.  \n",
    "2) Features are all PCA transformed (except Time, Amount and Class).  \n",
    "\n",
    "##### Methodology :\n",
    "I have used resampling to run 3 variations :  \n",
    "a) Undersampling majority class to match minority class by 100%  \n",
    "b) Oversampling minority class to 5% of majority class and then equating both classes.  \n",
    "c) Oversampling minority class to 20% of majority class and then equating both classes.  \n",
    "I have then finalized a dataset based on the third variation (20% of majority class) based on a combination of F1 score and Recall. The finalized dataset and model is fed into Sagemaker, trained and deployed as a serverless inference endpoint.\n",
    "This variation was chosen because it met evaluation criteria. \n",
    "\n",
    "##### Project Flow :  \n",
    "A) DATA OVERVIEW  \n",
    "    ---Initial data checks  \n",
    "    ---Charts visualization  \n",
    "B) FEATURE ENGINEERING  \n",
    "    ---Outliers  \n",
    "    ---Time feature adjustment  \n",
    "    ---Correlation  \n",
    "    ---Duplicated rows  \n",
    "    ---Train test Split  \n",
    "    ---Scaling  \n",
    "C) TRAINING VARIATIONS  \n",
    "    ---Splits for training  \n",
    "    --------Training for Variation 1  \n",
    "    --------Results  \n",
    "    --------Training for Variation 2  \n",
    "    --------Results  \n",
    "    --------Training for Variation 3  \n",
    "    --------Results  \n",
    "D) FEATURE IMPORTANCE  \n",
    "E) SAGEMAKER   \n",
    "    --------Uploading files  \n",
    "    --------Training with Random Forest and results  \n",
    "    --------Prediction input file setup  \n",
    "    --------Model deployment setup  \n",
    "    --------Serverless inference endpoint  \n",
    "    --------Cleanup"
   ]
  },
  {
   "cell_type": "markdown",
   "id": "7e08b2b4",
   "metadata": {},
   "source": [
    "## Initial data checks"
   ]
  },
  {
   "cell_type": "code",
   "execution_count": 1,
   "id": "de0001dc",
   "metadata": {},
   "outputs": [
    {
     "name": "stderr",
     "output_type": "stream",
     "text": [
      "/home/ec2-user/anaconda3/envs/python3/lib/python3.10/site-packages/xgboost/core.py:265: FutureWarning: Your system has an old version of glibc (< 2.28). We will stop supporting Linux distros with glibc older than 2.28 after **May 31, 2025**. Please upgrade to a recent Linux distro (with glibc 2.28+) to use future versions of XGBoost.\n",
      "Note: You have installed the 'manylinux2014' variant of XGBoost. Certain features such as GPU algorithms or federated learning are not available. To use these features, please upgrade to a recent Linux distro with glibc 2.28+, and install the 'manylinux_2_28' variant.\n",
      "  warnings.warn(\n"
     ]
    }
   ],
   "source": [
    "import numpy as np\n",
    "import seaborn as sns\n",
    "import pandas as pd\n",
    "import matplotlib.pyplot as plt\n",
    "import seaborn as sns\n",
    "\n",
    "from sklearn.model_selection import train_test_split\n",
    "from imblearn.over_sampling import SMOTE\n",
    "from imblearn.over_sampling import RandomOverSampler\n",
    "from imblearn.under_sampling import RandomUnderSampler\n",
    "from sklearn.preprocessing import RobustScaler\n",
    "from sklearn.model_selection import KFold, cross_val_predict,GridSearchCV\n",
    "\n",
    "from sklearn.linear_model import LogisticRegression\n",
    "from sklearn.ensemble import RandomForestClassifier\n",
    "from xgboost import XGBClassifier\n",
    "from sklearn.svm import SVC\n",
    "from sklearn.ensemble import RandomForestClassifier\n",
    "\n",
    "from sklearn.metrics import accuracy_score, classification_report\n",
    "\n",
    "import warnings\n",
    "warnings.filterwarnings('ignore')"
   ]
  },
  {
   "cell_type": "code",
   "execution_count": 2,
   "id": "5aa435ac",
   "metadata": {
    "scrolled": true
   },
   "outputs": [
    {
     "name": "stdout",
     "output_type": "stream",
     "text": [
      "(284807, 31)\n"
     ]
    },
    {
     "data": {
      "text/html": [
       "<div>\n",
       "<style scoped>\n",
       "    .dataframe tbody tr th:only-of-type {\n",
       "        vertical-align: middle;\n",
       "    }\n",
       "\n",
       "    .dataframe tbody tr th {\n",
       "        vertical-align: top;\n",
       "    }\n",
       "\n",
       "    .dataframe thead th {\n",
       "        text-align: right;\n",
       "    }\n",
       "</style>\n",
       "<table border=\"1\" class=\"dataframe\">\n",
       "  <thead>\n",
       "    <tr style=\"text-align: right;\">\n",
       "      <th></th>\n",
       "      <th>Time</th>\n",
       "      <th>V1</th>\n",
       "      <th>V2</th>\n",
       "      <th>V3</th>\n",
       "      <th>V4</th>\n",
       "      <th>V5</th>\n",
       "      <th>V6</th>\n",
       "      <th>V7</th>\n",
       "      <th>V8</th>\n",
       "      <th>V9</th>\n",
       "      <th>...</th>\n",
       "      <th>V21</th>\n",
       "      <th>V22</th>\n",
       "      <th>V23</th>\n",
       "      <th>V24</th>\n",
       "      <th>V25</th>\n",
       "      <th>V26</th>\n",
       "      <th>V27</th>\n",
       "      <th>V28</th>\n",
       "      <th>Amount</th>\n",
       "      <th>Class</th>\n",
       "    </tr>\n",
       "  </thead>\n",
       "  <tbody>\n",
       "    <tr>\n",
       "      <th>0</th>\n",
       "      <td>0.0</td>\n",
       "      <td>-1.359807</td>\n",
       "      <td>-0.072781</td>\n",
       "      <td>2.536347</td>\n",
       "      <td>1.378155</td>\n",
       "      <td>-0.338321</td>\n",
       "      <td>0.462388</td>\n",
       "      <td>0.239599</td>\n",
       "      <td>0.098698</td>\n",
       "      <td>0.363787</td>\n",
       "      <td>...</td>\n",
       "      <td>-0.018307</td>\n",
       "      <td>0.277838</td>\n",
       "      <td>-0.110474</td>\n",
       "      <td>0.066928</td>\n",
       "      <td>0.128539</td>\n",
       "      <td>-0.189115</td>\n",
       "      <td>0.133558</td>\n",
       "      <td>-0.021053</td>\n",
       "      <td>149.62</td>\n",
       "      <td>0</td>\n",
       "    </tr>\n",
       "    <tr>\n",
       "      <th>1</th>\n",
       "      <td>0.0</td>\n",
       "      <td>1.191857</td>\n",
       "      <td>0.266151</td>\n",
       "      <td>0.166480</td>\n",
       "      <td>0.448154</td>\n",
       "      <td>0.060018</td>\n",
       "      <td>-0.082361</td>\n",
       "      <td>-0.078803</td>\n",
       "      <td>0.085102</td>\n",
       "      <td>-0.255425</td>\n",
       "      <td>...</td>\n",
       "      <td>-0.225775</td>\n",
       "      <td>-0.638672</td>\n",
       "      <td>0.101288</td>\n",
       "      <td>-0.339846</td>\n",
       "      <td>0.167170</td>\n",
       "      <td>0.125895</td>\n",
       "      <td>-0.008983</td>\n",
       "      <td>0.014724</td>\n",
       "      <td>2.69</td>\n",
       "      <td>0</td>\n",
       "    </tr>\n",
       "    <tr>\n",
       "      <th>2</th>\n",
       "      <td>1.0</td>\n",
       "      <td>-1.358354</td>\n",
       "      <td>-1.340163</td>\n",
       "      <td>1.773209</td>\n",
       "      <td>0.379780</td>\n",
       "      <td>-0.503198</td>\n",
       "      <td>1.800499</td>\n",
       "      <td>0.791461</td>\n",
       "      <td>0.247676</td>\n",
       "      <td>-1.514654</td>\n",
       "      <td>...</td>\n",
       "      <td>0.247998</td>\n",
       "      <td>0.771679</td>\n",
       "      <td>0.909412</td>\n",
       "      <td>-0.689281</td>\n",
       "      <td>-0.327642</td>\n",
       "      <td>-0.139097</td>\n",
       "      <td>-0.055353</td>\n",
       "      <td>-0.059752</td>\n",
       "      <td>378.66</td>\n",
       "      <td>0</td>\n",
       "    </tr>\n",
       "    <tr>\n",
       "      <th>3</th>\n",
       "      <td>1.0</td>\n",
       "      <td>-0.966272</td>\n",
       "      <td>-0.185226</td>\n",
       "      <td>1.792993</td>\n",
       "      <td>-0.863291</td>\n",
       "      <td>-0.010309</td>\n",
       "      <td>1.247203</td>\n",
       "      <td>0.237609</td>\n",
       "      <td>0.377436</td>\n",
       "      <td>-1.387024</td>\n",
       "      <td>...</td>\n",
       "      <td>-0.108300</td>\n",
       "      <td>0.005274</td>\n",
       "      <td>-0.190321</td>\n",
       "      <td>-1.175575</td>\n",
       "      <td>0.647376</td>\n",
       "      <td>-0.221929</td>\n",
       "      <td>0.062723</td>\n",
       "      <td>0.061458</td>\n",
       "      <td>123.50</td>\n",
       "      <td>0</td>\n",
       "    </tr>\n",
       "    <tr>\n",
       "      <th>4</th>\n",
       "      <td>2.0</td>\n",
       "      <td>-1.158233</td>\n",
       "      <td>0.877737</td>\n",
       "      <td>1.548718</td>\n",
       "      <td>0.403034</td>\n",
       "      <td>-0.407193</td>\n",
       "      <td>0.095921</td>\n",
       "      <td>0.592941</td>\n",
       "      <td>-0.270533</td>\n",
       "      <td>0.817739</td>\n",
       "      <td>...</td>\n",
       "      <td>-0.009431</td>\n",
       "      <td>0.798278</td>\n",
       "      <td>-0.137458</td>\n",
       "      <td>0.141267</td>\n",
       "      <td>-0.206010</td>\n",
       "      <td>0.502292</td>\n",
       "      <td>0.219422</td>\n",
       "      <td>0.215153</td>\n",
       "      <td>69.99</td>\n",
       "      <td>0</td>\n",
       "    </tr>\n",
       "  </tbody>\n",
       "</table>\n",
       "<p>5 rows × 31 columns</p>\n",
       "</div>"
      ],
      "text/plain": [
       "   Time        V1        V2        V3        V4        V5        V6        V7  \\\n",
       "0   0.0 -1.359807 -0.072781  2.536347  1.378155 -0.338321  0.462388  0.239599   \n",
       "1   0.0  1.191857  0.266151  0.166480  0.448154  0.060018 -0.082361 -0.078803   \n",
       "2   1.0 -1.358354 -1.340163  1.773209  0.379780 -0.503198  1.800499  0.791461   \n",
       "3   1.0 -0.966272 -0.185226  1.792993 -0.863291 -0.010309  1.247203  0.237609   \n",
       "4   2.0 -1.158233  0.877737  1.548718  0.403034 -0.407193  0.095921  0.592941   \n",
       "\n",
       "         V8        V9  ...       V21       V22       V23       V24       V25  \\\n",
       "0  0.098698  0.363787  ... -0.018307  0.277838 -0.110474  0.066928  0.128539   \n",
       "1  0.085102 -0.255425  ... -0.225775 -0.638672  0.101288 -0.339846  0.167170   \n",
       "2  0.247676 -1.514654  ...  0.247998  0.771679  0.909412 -0.689281 -0.327642   \n",
       "3  0.377436 -1.387024  ... -0.108300  0.005274 -0.190321 -1.175575  0.647376   \n",
       "4 -0.270533  0.817739  ... -0.009431  0.798278 -0.137458  0.141267 -0.206010   \n",
       "\n",
       "        V26       V27       V28  Amount  Class  \n",
       "0 -0.189115  0.133558 -0.021053  149.62      0  \n",
       "1  0.125895 -0.008983  0.014724    2.69      0  \n",
       "2 -0.139097 -0.055353 -0.059752  378.66      0  \n",
       "3 -0.221929  0.062723  0.061458  123.50      0  \n",
       "4  0.502292  0.219422  0.215153   69.99      0  \n",
       "\n",
       "[5 rows x 31 columns]"
      ]
     },
     "execution_count": 2,
     "metadata": {},
     "output_type": "execute_result"
    }
   ],
   "source": [
    "import pandas as pd\n",
    "\n",
    "%matplotlib inline\n",
    "\n",
    "df = pd.read_csv(\"creditcard.csv\")\n",
    "\n",
    "print(df.shape)\n",
    "df.head()"
   ]
  },
  {
   "cell_type": "markdown",
   "id": "e30f4711",
   "metadata": {},
   "source": [
    "#### - Except Amount and Time, all features are PCA transformed"
   ]
  },
  {
   "cell_type": "code",
   "execution_count": 3,
   "id": "d419dc68",
   "metadata": {
    "scrolled": true
   },
   "outputs": [
    {
     "name": "stdout",
     "output_type": "stream",
     "text": [
      "<class 'pandas.core.frame.DataFrame'>\n",
      "RangeIndex: 284807 entries, 0 to 284806\n",
      "Data columns (total 31 columns):\n",
      " #   Column  Non-Null Count   Dtype  \n",
      "---  ------  --------------   -----  \n",
      " 0   Time    284807 non-null  float64\n",
      " 1   V1      284807 non-null  float64\n",
      " 2   V2      284807 non-null  float64\n",
      " 3   V3      284807 non-null  float64\n",
      " 4   V4      284807 non-null  float64\n",
      " 5   V5      284807 non-null  float64\n",
      " 6   V6      284807 non-null  float64\n",
      " 7   V7      284807 non-null  float64\n",
      " 8   V8      284807 non-null  float64\n",
      " 9   V9      284807 non-null  float64\n",
      " 10  V10     284807 non-null  float64\n",
      " 11  V11     284807 non-null  float64\n",
      " 12  V12     284807 non-null  float64\n",
      " 13  V13     284807 non-null  float64\n",
      " 14  V14     284807 non-null  float64\n",
      " 15  V15     284807 non-null  float64\n",
      " 16  V16     284807 non-null  float64\n",
      " 17  V17     284807 non-null  float64\n",
      " 18  V18     284807 non-null  float64\n",
      " 19  V19     284807 non-null  float64\n",
      " 20  V20     284807 non-null  float64\n",
      " 21  V21     284807 non-null  float64\n",
      " 22  V22     284807 non-null  float64\n",
      " 23  V23     284807 non-null  float64\n",
      " 24  V24     284807 non-null  float64\n",
      " 25  V25     284807 non-null  float64\n",
      " 26  V26     284807 non-null  float64\n",
      " 27  V27     284807 non-null  float64\n",
      " 28  V28     284807 non-null  float64\n",
      " 29  Amount  284807 non-null  float64\n",
      " 30  Class   284807 non-null  int64  \n",
      "dtypes: float64(30), int64(1)\n",
      "memory usage: 67.4 MB\n"
     ]
    }
   ],
   "source": [
    "# Checking info, no nulls were found \n",
    "df.info()"
   ]
  },
  {
   "cell_type": "markdown",
   "id": "9989ba9d",
   "metadata": {},
   "source": [
    "## Chart visualization"
   ]
  },
  {
   "cell_type": "code",
   "execution_count": 4,
   "id": "7935dda5",
   "metadata": {
    "scrolled": true
   },
   "outputs": [
    {
     "data": {
      "image/png": "[encoded data removed]",
      "text/plain": [
       "<Figure size 1000x900 with 30 Axes>"
      ]
     },
     "metadata": {},
     "output_type": "display_data"
    }
   ],
   "source": [
    "dfcol = [i for i in df.columns if i not in [\"Class\"]]\n",
    "\n",
    "fig, axes = plt.subplots(10, 3, figsize=(10, 9))\n",
    "\n",
    "axes = axes.flatten()\n",
    "\n",
    "for i, col in enumerate(dfcol):\n",
    "    sns.kdeplot(df[df['Class'] == 1][col], shade=False, label=\"1\", ax=axes[i], color='purple', alpha=0.5)\n",
    "    sns.kdeplot(df[df['Class'] == 0][col], shade=False , label=\"0\", ax=axes[i], color='orange', alpha=0.5)\n",
    "    axes[i].set_title(col, fontsize = 8)\n",
    "    axes[i].set_xlabel('')\n",
    "    axes[i].set_ylabel('')\n",
    "    axes[i].tick_params(axis='both', labelsize=8)\n",
    "    axes[i].legend(loc='upper right', fontsize='xx-small')\n",
    "    plt.set_loglevel('WARNING')\n",
    "    \n",
    "plt.tight_layout()\n",
    "plt.show()"
   ]
  },
  {
   "cell_type": "markdown",
   "id": "ff48cc48",
   "metadata": {},
   "source": [
    "#### - All features have already undergone PCA and labels are hidden for ethical purposes. \n",
    "#### - Fraud datapoints have a more uniform spread relatively vs non frauds. Especially for the time feature.  \n",
    "#### - Time and Amount need to be scaled to prevent impact on learning for non-tree models. Tree-models are not sensitive to scaling. "
   ]
  },
  {
   "cell_type": "code",
   "execution_count": 5,
   "id": "166e9cb9",
   "metadata": {},
   "outputs": [
    {
     "data": {
      "text/plain": [
       "Class\n",
       "0    284315\n",
       "1       492\n",
       "Name: count, dtype: int64"
      ]
     },
     "execution_count": 5,
     "metadata": {},
     "output_type": "execute_result"
    }
   ],
   "source": [
    "#checking count of items in Class\n",
    "df[\"Class\"].value_counts()"
   ]
  },
  {
   "cell_type": "markdown",
   "id": "d94a2906",
   "metadata": {},
   "source": [
    "#### -Dataset is highly imbalanced.\n",
    "#### -Resampling techniques like SMOTE and Undersampling will have to be used ahead."
   ]
  },
  {
   "cell_type": "markdown",
   "id": "7b86ce33",
   "metadata": {},
   "source": [
    "## Outliers"
   ]
  },
  {
   "cell_type": "code",
   "execution_count": 6,
   "id": "ae4eab44",
   "metadata": {},
   "outputs": [],
   "source": [
    "#Creating copy df to drop outliers for checking\n",
    "dfcopy = df.copy()"
   ]
  },
  {
   "cell_type": "code",
   "execution_count": 7,
   "id": "74eb8038",
   "metadata": {},
   "outputs": [],
   "source": [
    "outliers_list = []\n",
    "outliers_count = {}"
   ]
  },
  {
   "cell_type": "code",
   "execution_count": 9,
   "id": "af258efb",
   "metadata": {},
   "outputs": [],
   "source": [
    "#defining outliers with factor 3 instead of 1.5, for extreme outliers \n",
    "cols = [i for i in dfcopy.columns if i != \"Class\"]\n",
    "for i in cols:\n",
    "    Q1 = dfcopy[i].quantile(0.25)\n",
    "    Q3 = dfcopy[i].quantile(0.75)\n",
    "    IQR = Q3 - Q1\n",
    "    \n",
    "    lower_bound = Q1 - (3 * IQR)\n",
    "    upper_bound = Q3 + (3 * IQR)\n",
    "    \n",
    "    outliers = dfcopy[(dfcopy[i] < lower_bound) | (dfcopy[i] > upper_bound)]\n",
    "    outliers_list.extend(outliers.index.tolist()) \n",
    "    outliers_count[i] = len(outliers)"
   ]
  },
  {
   "cell_type": "code",
   "execution_count": 10,
   "id": "987e2bc1",
   "metadata": {},
   "outputs": [
    {
     "name": "stdout",
     "output_type": "stream",
     "text": [
      "{'Time': 0, 'V1': 1994, 'V2': 4453, 'V3': 762, 'V4': 479, 'V5': 2321, 'V6': 5389, 'V7': 3051, 'V8': 11285, 'V9': 1077, 'V10': 3208, 'V11': 154, 'V12': 1305, 'V13': 2, 'V14': 2405, 'V15': 18, 'V16': 588, 'V17': 1449, 'V18': 283, 'V19': 628, 'V20': 13385, 'V21': 6934, 'V22': 193, 'V23': 8135, 'V24': 137, 'V25': 452, 'V26': 514, 'V27': 16524, 'V28': 12573, 'Amount': 18941}\n"
     ]
    }
   ],
   "source": [
    "#list of outliers in each feature\n",
    "print(outliers_count)"
   ]
  },
  {
   "cell_type": "code",
   "execution_count": 11,
   "id": "d7bebb03",
   "metadata": {},
   "outputs": [],
   "source": [
    "#removing duplicated items by set conversion\n",
    "outliers_list = list(set(outliers_list))"
   ]
  },
  {
   "cell_type": "code",
   "execution_count": 12,
   "id": "6730add9",
   "metadata": {},
   "outputs": [],
   "source": [
    "dfcopy = dfcopy.drop(index=outliers_list)"
   ]
  },
  {
   "cell_type": "code",
   "execution_count": 13,
   "id": "45c77e8c",
   "metadata": {},
   "outputs": [
    {
     "data": {
      "text/plain": [
       "Class\n",
       "0    284315\n",
       "1       492\n",
       "Name: count, dtype: int64"
      ]
     },
     "execution_count": 13,
     "metadata": {},
     "output_type": "execute_result"
    }
   ],
   "source": [
    "# Before dropping outliers\n",
    "df[\"Class\"].value_counts()"
   ]
  },
  {
   "cell_type": "code",
   "execution_count": 14,
   "id": "557afd1e",
   "metadata": {},
   "outputs": [
    {
     "data": {
      "text/plain": [
       "Class\n",
       "0    231431\n",
       "1        40\n",
       "Name: count, dtype: int64"
      ]
     },
     "execution_count": 14,
     "metadata": {},
     "output_type": "execute_result"
    }
   ],
   "source": [
    "# After dropping outliers\n",
    "dfcopy[\"Class\"].value_counts()"
   ]
  },
  {
   "cell_type": "markdown",
   "id": "1cd9c3a8",
   "metadata": {},
   "source": [
    "#### - Outliers have not been dropped from main dataset because a lot of rows (containing a lot of imbalanced Frauds) have been classified as outliers.\n",
    "#### - Loss of Fraud classes have to be minimized due to a minimal limited number for model to train on."
   ]
  },
  {
   "cell_type": "markdown",
   "id": "4be23e2e",
   "metadata": {},
   "source": [
    "## Time feature adjustment"
   ]
  },
  {
   "cell_type": "markdown",
   "id": "1b7dd738",
   "metadata": {},
   "source": [
    "#### Conversion code below was added later in the final, I have not included the hours/minutes conversion but went with just scaling the column as seconds as per original. This is because there was no improvement in scores with the converted Time feature in trial runs and it was ranked at the bottom in random forest feature importance, indicating it is not contributing much to the model's pattern learning.  Code below :"
   ]
  },
  {
   "cell_type": "code",
   "execution_count": null,
   "id": "d6cf0c6d",
   "metadata": {},
   "outputs": [],
   "source": [
    "# NOT USED \n",
    "timedelta = pd.to_timedelta(d['Time'], unit='s')\n",
    "df[\"Minutes\"] = (timedelta.dt.components.minutes).astype(int) #Minute conversion\n",
    "df[\"Hours\"] = (timedelta.dt.components.hours).astype(int) #Hour conversion\n",
    "df = df.drop(columns = [\"Time\"])"
   ]
  },
  {
   "cell_type": "markdown",
   "id": "24584899",
   "metadata": {},
   "source": [
    "## Correlation"
   ]
  },
  {
   "cell_type": "markdown",
   "id": "3e92b867",
   "metadata": {},
   "source": [
    "#### - Most columns do not seem to be correlated , this could be because this is a PCA transformed dataset. There are features that are slightly negatively correlated with target \"Class\"."
   ]
  },
  {
   "cell_type": "code",
   "execution_count": 15,
   "id": "11044955",
   "metadata": {
    "scrolled": true
   },
   "outputs": [
    {
     "data": {
      "image/png": "[encoded data removed]",
      "text/plain": [
       "<Figure size 700x700 with 2 Axes>"
      ]
     },
     "metadata": {},
     "output_type": "display_data"
    }
   ],
   "source": [
    "plt.figure(figsize = (7,7))\n",
    "corr = df.corr()\n",
    "sns.heatmap(corr, robust = True, center = 0,square = True, cmap=\"coolwarm\",linewidths = .6)\n",
    "plt.title('Correlation Table')\n",
    "plt.show()"
   ]
  },
  {
   "cell_type": "markdown",
   "id": "5bdda5e0",
   "metadata": {},
   "source": [
    "## Duplicate rows"
   ]
  },
  {
   "cell_type": "markdown",
   "id": "68533ba0",
   "metadata": {},
   "source": [
    "#### - Checking for duplicate rows \n",
    "#### - 19 Frauds were also dropped but this will not affect learning as they were duplicates. "
   ]
  },
  {
   "cell_type": "code",
   "execution_count": 16,
   "id": "faedb778",
   "metadata": {},
   "outputs": [
    {
     "data": {
      "text/plain": [
       "np.int64(1081)"
      ]
     },
     "execution_count": 16,
     "metadata": {},
     "output_type": "execute_result"
    }
   ],
   "source": [
    "duplicates = df.duplicated().sum()\n",
    "duplicates"
   ]
  },
  {
   "cell_type": "code",
   "execution_count": 17,
   "id": "c1df155b",
   "metadata": {},
   "outputs": [],
   "source": [
    "duplicate_rows = df[df.duplicated()]"
   ]
  },
  {
   "cell_type": "code",
   "execution_count": 18,
   "id": "22e0e562",
   "metadata": {},
   "outputs": [
    {
     "data": {
      "text/plain": [
       "Class\n",
       "0    1062\n",
       "1      19\n",
       "Name: count, dtype: int64"
      ]
     },
     "execution_count": 18,
     "metadata": {},
     "output_type": "execute_result"
    }
   ],
   "source": [
    "duplicate_rows[\"Class\"].value_counts()"
   ]
  },
  {
   "cell_type": "code",
   "execution_count": 19,
   "id": "d58f920d",
   "metadata": {},
   "outputs": [],
   "source": [
    "df = df.drop_duplicates()"
   ]
  },
  {
   "cell_type": "markdown",
   "id": "382a7d6a",
   "metadata": {},
   "source": [
    "## Train Test split "
   ]
  },
  {
   "cell_type": "code",
   "execution_count": 20,
   "id": "a9f14d75",
   "metadata": {},
   "outputs": [],
   "source": [
    "# Using a 80 : 20 split for train and test set\n",
    "trainX, testX = train_test_split(df, test_size=0.2, random_state=28)"
   ]
  },
  {
   "cell_type": "code",
   "execution_count": 21,
   "id": "d188624a",
   "metadata": {},
   "outputs": [],
   "source": [
    "trainX.reset_index(drop=True, inplace=True)\n",
    "testX.reset_index(drop=True, inplace=True)"
   ]
  },
  {
   "cell_type": "markdown",
   "id": "7fcd1d8b",
   "metadata": {},
   "source": [
    "## Scaler"
   ]
  },
  {
   "cell_type": "markdown",
   "id": "dc8e092d",
   "metadata": {},
   "source": [
    "#### - I have scaled only Amount and Time columns. \n",
    "#### - RobustScaler is used to scale columns, it is not sensitive to outliers and skewed distributions.\n",
    "#### - It uses the data point's difference from median and IQR division to scale features."
   ]
  },
  {
   "cell_type": "code",
   "execution_count": 22,
   "id": "b3ed50fc",
   "metadata": {},
   "outputs": [],
   "source": [
    "scaler = RobustScaler() "
   ]
  },
  {
   "cell_type": "code",
   "execution_count": 23,
   "id": "8a20339d",
   "metadata": {},
   "outputs": [],
   "source": [
    "#Scaling Train set\n",
    "scaledtrain = scaler.fit_transform(trainX[[\"Amount\", \"Time\"]])"
   ]
  },
  {
   "cell_type": "code",
   "execution_count": 24,
   "id": "6953a0a3",
   "metadata": {},
   "outputs": [],
   "source": [
    "scaledtrain_columns = pd.DataFrame(scaledtrain, columns = [\"Amount\", \"Time\"]) "
   ]
  },
  {
   "cell_type": "code",
   "execution_count": 25,
   "id": "1e5dcaea",
   "metadata": {},
   "outputs": [],
   "source": [
    "trainX[[\"Amount\", \"Time\"]] = scaledtrain_columns"
   ]
  },
  {
   "cell_type": "code",
   "execution_count": 26,
   "id": "0e6d087a",
   "metadata": {},
   "outputs": [],
   "source": [
    "#Scaling Test set seperately to avoid data leakage\n",
    "scaledtest = scaler.transform(testX[[\"Amount\", \"Time\"]])"
   ]
  },
  {
   "cell_type": "code",
   "execution_count": 27,
   "id": "f01ee932",
   "metadata": {},
   "outputs": [],
   "source": [
    "scaledtest_columns = pd.DataFrame(scaledtest, columns = [\"Amount\", \"Time\"])"
   ]
  },
  {
   "cell_type": "code",
   "execution_count": 28,
   "id": "49ac158b",
   "metadata": {},
   "outputs": [],
   "source": [
    "testX[[\"Amount\", \"Time\"]] = scaledtest_columns"
   ]
  },
  {
   "cell_type": "markdown",
   "id": "0947cd3a",
   "metadata": {},
   "source": [
    "## Train and Test splits"
   ]
  },
  {
   "cell_type": "code",
   "execution_count": null,
   "id": "15ce3688",
   "metadata": {},
   "outputs": [],
   "source": [
    "#Seperating X and Y columns from train and test\n",
    "#Making copies of train and test to run on resampled data for 3 variations. "
   ]
  },
  {
   "cell_type": "code",
   "execution_count": 29,
   "id": "4a1eeaf2",
   "metadata": {},
   "outputs": [],
   "source": [
    "#For variation 1\n",
    "trainY1 = trainX[\"Class\"]\n",
    "trainX1 = trainX.drop(columns=[\"Class\"])\n",
    "testY1 = testX[\"Class\"]\n",
    "testX1 = testX.drop(columns=[\"Class\"])"
   ]
  },
  {
   "cell_type": "code",
   "execution_count": null,
   "id": "a443b421",
   "metadata": {},
   "outputs": [],
   "source": [
    "#For variation 2"
   ]
  },
  {
   "cell_type": "code",
   "execution_count": 30,
   "id": "6f064dcb",
   "metadata": {},
   "outputs": [],
   "source": [
    "trainX2 = trainX1.copy()"
   ]
  },
  {
   "cell_type": "code",
   "execution_count": 31,
   "id": "5a802e4b",
   "metadata": {},
   "outputs": [],
   "source": [
    "trainY2 = trainY1.copy()"
   ]
  },
  {
   "cell_type": "code",
   "execution_count": 32,
   "id": "b223a4b8",
   "metadata": {},
   "outputs": [],
   "source": [
    "testX2 = testX1.copy()"
   ]
  },
  {
   "cell_type": "code",
   "execution_count": 33,
   "id": "f725d722",
   "metadata": {},
   "outputs": [],
   "source": [
    "testY2 = testY1.copy()"
   ]
  },
  {
   "cell_type": "code",
   "execution_count": null,
   "id": "a9035998",
   "metadata": {},
   "outputs": [],
   "source": [
    "#For variation 3"
   ]
  },
  {
   "cell_type": "code",
   "execution_count": 34,
   "id": "3db2f3fe",
   "metadata": {},
   "outputs": [],
   "source": [
    "trainX3 = trainX1.copy()"
   ]
  },
  {
   "cell_type": "code",
   "execution_count": 35,
   "id": "0ed8a7d7",
   "metadata": {},
   "outputs": [],
   "source": [
    "trainY3 = trainY1.copy()"
   ]
  },
  {
   "cell_type": "code",
   "execution_count": 36,
   "id": "d1284211",
   "metadata": {},
   "outputs": [],
   "source": [
    "testX3 = testX1.copy()"
   ]
  },
  {
   "cell_type": "code",
   "execution_count": 37,
   "id": "fe22aed8",
   "metadata": {},
   "outputs": [],
   "source": [
    "testY3 = testY1.copy()"
   ]
  },
  {
   "cell_type": "markdown",
   "id": "65bb2841",
   "metadata": {},
   "source": [
    "#### - Training dataset will be sampled in 3 variations below, while Testing data will remain unchanged "
   ]
  },
  {
   "cell_type": "code",
   "execution_count": 38,
   "id": "4562c58a",
   "metadata": {},
   "outputs": [
    {
     "name": "stdout",
     "output_type": "stream",
     "text": [
      "Class\n",
      "0    226593\n",
      "1       387\n",
      "Name: count, dtype: int64\n"
     ]
    }
   ],
   "source": [
    "# Checking the value count of training set to ensure we have a substantial number of Fraud classes. 387 frauds. 82% of total frauds.\n",
    "class_1s_train = trainY1.value_counts()\n",
    "print(class_1s_train)"
   ]
  },
  {
   "cell_type": "code",
   "execution_count": 39,
   "id": "e914b0d1",
   "metadata": {},
   "outputs": [
    {
     "name": "stdout",
     "output_type": "stream",
     "text": [
      "Class\n",
      "0    56660\n",
      "1       86\n",
      "Name: count, dtype: int64\n"
     ]
    }
   ],
   "source": [
    "# Checking Test set, 86 frauds. 18% of total frauds.\n",
    "class_1s_test = testY1.value_counts()\n",
    "print(class_1s_test)"
   ]
  },
  {
   "cell_type": "markdown",
   "id": "45d416b8",
   "metadata": {},
   "source": [
    "## Evaluating Imbalanced datasets -----------------------------------------------\n",
    "#### - Accuracy is not a good indicator in imbalanced datasets due to the large number of majority class being identified correctly to drive the accuracy up. F1 score and recall are better metrics for evaluation.\n",
    "#### 1) RECALL ----- Recall for the fraud class is the percentage of the correctly identified fraud classes among all the actual fraud classes. (i.e. how many fraud classes were correctly identified)\n",
    "#### Recall, which drops as the False Negatives increase, is the chosen metric when dealing with datasets like fraud and heart disease, because it is in the best interest of the client to ensure fraud transactions are not mistakenly classifed as genuine transactions, which would cause more issues than genuine transactions being mistakenly classified as fraud.  But a balance is necessary.\n",
    "#### 2) PRECISION ----- Precision for the fraud class is the percentage of the correctly identified fraud classes among  all the classes identified as fraud. (i.e. how many identified as fraud were actually fraud)\n",
    "#### 3) F1_SCORE ----- F1 score is the harmonic mean of Precision and Recall. It includes both metric into its formula and rates the ability of the model to identify both classes.\n",
    "#### - Higher the ROC AUC score out of 100, indicates the model's ability to differentiate both classes. (ROC AUC is used later in Sagemaker training)\n",
    " "
   ]
  },
  {
   "cell_type": "markdown",
   "id": "92936e9c",
   "metadata": {},
   "source": [
    "## Models used ---------------------------------------------------------------------------\n",
    "#### 1)XGB Classifier ----- Builds an ensemble of decision trees , where each new tree corrects the errors made by the previous trees. Weak learning trees are combined to make a strong learner.\n",
    "#### 2)Random Forest Classifier ----- Builds multiple decision trees and outputs the most frequent class out of all the predictions by individual trees.\n",
    "#### 3)Logistic Regression ----- Uses the logistic sigmoid curve to classify both classes. \n",
    "#### 4)SVC ----- Identifies a hyperplane that maximizes the margin (i.e. the distance from the nearest data point of either class to the hyperplane ) to separate both classes.\n",
    "\n",
    "#### Key hyperparameters used were :\n",
    "#### 1) Max depth (to control how deep the tree could grow in terms of split). Limiting the max depth reduced overfitting and reducing it too low made the model training poor. These were used for Random Forest and XGB Classifiers.  \n",
    "#### 2) Gamma for XGB, increasing the Gamma reduced overfitting. (Gamma decides to make a split on a leaf node or not, based on loss reduction)\n"
   ]
  },
  {
   "cell_type": "markdown",
   "id": "9ce753df",
   "metadata": {},
   "source": [
    "## Training 1: ---------------------------------------------------------------------------\n",
    "## Undersampling majority class 100% (Fraud : 387 , Genuine : 387)"
   ]
  },
  {
   "cell_type": "code",
   "execution_count": 40,
   "id": "c8a4b747",
   "metadata": {},
   "outputs": [],
   "source": [
    "models = {\n",
    "    'XGBoost': XGBClassifier(max_depth = 5, min_child_weight =2, gamma = 2),\n",
    "    'Random Forest': RandomForestClassifier( max_depth = 5),\n",
    "    \"Logistic Regression\" : LogisticRegression(),\n",
    "    \"SVC\" : SVC()}"
   ]
  },
  {
   "cell_type": "code",
   "execution_count": 41,
   "id": "6548c5e4",
   "metadata": {},
   "outputs": [],
   "source": [
    "#Kfold set to 5 to ensure model does 4 train folds and one test fold selected at random \n",
    "kf = KFold(n_splits=5, shuffle=True, random_state=28)"
   ]
  },
  {
   "cell_type": "markdown",
   "id": "7f84c4c7",
   "metadata": {},
   "source": [
    "#### - Default parameters set for all models except XGBoost and Random Forest.\n",
    "#### - Parameters set are mainly to control overfitting. "
   ]
  },
  {
   "cell_type": "code",
   "execution_count": 42,
   "id": "feefad71",
   "metadata": {},
   "outputs": [],
   "source": [
    "# Using Random Undersampler to match minority class \n",
    "undersample = RandomUnderSampler(sampling_strategy=1,  random_state=28)\n",
    "trainX1, trainY1 = undersample.fit_resample(trainX1,trainY1)"
   ]
  },
  {
   "cell_type": "code",
   "execution_count": 43,
   "id": "e9e6247a",
   "metadata": {},
   "outputs": [
    {
     "data": {
      "text/plain": [
       "Class\n",
       "0    387\n",
       "1    387\n",
       "Name: count, dtype: int64"
      ]
     },
     "execution_count": 43,
     "metadata": {},
     "output_type": "execute_result"
    }
   ],
   "source": [
    "trainY1.value_counts()"
   ]
  },
  {
   "cell_type": "code",
   "execution_count": 44,
   "id": "435d00e6",
   "metadata": {},
   "outputs": [],
   "source": [
    "accuracy_results1 = {}\n",
    "training_accuracy_results1 = {}\n",
    "classification_reports1 = {}"
   ]
  },
  {
   "cell_type": "code",
   "execution_count": 45,
   "id": "04845301",
   "metadata": {},
   "outputs": [],
   "source": [
    "#Running the models, and appending the result metrics into defined dictionaries\n",
    "for i,j in models.items():\n",
    "    cv_model = cross_val_predict(j, trainX1, trainY1, cv=kf)\n",
    "    j.fit(trainX1, trainY1)\n",
    "    y_pred1 = j.predict(testX1)\n",
    "    y_trainpred1 = j.predict(trainX1)\n",
    "    \n",
    "    \n",
    "    trainaccuracy = accuracy_score(trainY1, y_trainpred1)\n",
    "    training_accuracy_results1[i] = trainaccuracy\n",
    "    \n",
    "    accuracy = accuracy_score(testY1, y_pred1)\n",
    "    accuracy_results1[i] = accuracy\n",
    "    \n",
    "    report = classification_report(testY1, y_pred1)\n",
    "    classification_reports1[i] = report\n",
    "    "
   ]
  },
  {
   "cell_type": "code",
   "execution_count": 46,
   "id": "162ad4f7",
   "metadata": {
    "scrolled": true
   },
   "outputs": [
    {
     "name": "stdout",
     "output_type": "stream",
     "text": [
      "XGBoost training accuracy:  0.9832\n",
      "XGBoost testing accuracy: 0.9654\n",
      "XGBoost Classification:\n",
      "               precision    recall  f1-score   support\n",
      "\n",
      "           0       1.00      0.97      0.98     56660\n",
      "           1       0.04      0.88      0.07        86\n",
      "\n",
      "    accuracy                           0.97     56746\n",
      "   macro avg       0.52      0.92      0.53     56746\n",
      "weighted avg       1.00      0.97      0.98     56746\n",
      "\n",
      "*******************************************************************\n",
      "Random Forest training accuracy:  0.9599\n",
      "Random Forest testing accuracy: 0.9865\n",
      "Random Forest Classification:\n",
      "               precision    recall  f1-score   support\n",
      "\n",
      "           0       1.00      0.99      0.99     56660\n",
      "           1       0.09      0.84      0.16        86\n",
      "\n",
      "    accuracy                           0.99     56746\n",
      "   macro avg       0.54      0.91      0.58     56746\n",
      "weighted avg       1.00      0.99      0.99     56746\n",
      "\n",
      "*******************************************************************\n",
      "Logistic Regression training accuracy:  0.9548\n",
      "Logistic Regression testing accuracy: 0.9648\n",
      "Logistic Regression Classification:\n",
      "               precision    recall  f1-score   support\n",
      "\n",
      "           0       1.00      0.96      0.98     56660\n",
      "           1       0.04      0.88      0.07        86\n",
      "\n",
      "    accuracy                           0.96     56746\n",
      "   macro avg       0.52      0.92      0.53     56746\n",
      "weighted avg       1.00      0.96      0.98     56746\n",
      "\n",
      "*******************************************************************\n",
      "SVC training accuracy:  0.9419\n",
      "SVC testing accuracy: 0.9862\n",
      "SVC Classification:\n",
      "               precision    recall  f1-score   support\n",
      "\n",
      "           0       1.00      0.99      0.99     56660\n",
      "           1       0.08      0.83      0.15        86\n",
      "\n",
      "    accuracy                           0.99     56746\n",
      "   macro avg       0.54      0.91      0.57     56746\n",
      "weighted avg       1.00      0.99      0.99     56746\n",
      "\n",
      "*******************************************************************\n"
     ]
    }
   ],
   "source": [
    "for i, j in accuracy_results1.items():\n",
    "    print(f\"{i} training accuracy:  {round(training_accuracy_results1[i],4)}\")  \n",
    "    print(f\"{i} testing accuracy: {round(j,4)}\")\n",
    "    print(f\"{i} Classification:\\n\", classification_reports1[i])\n",
    "    print(\"*******************************************************************\")"
   ]
  },
  {
   "cell_type": "markdown",
   "id": "daaf1425",
   "metadata": {},
   "source": [
    "## Results :\n",
    "#### - For XGB : Recall for \"fraud\" is 88%, while precision is 4%\n",
    "#### - For RFC : Recall for \"fraud\" is 84%, while precision is 9%\n",
    "#### - For LogR : Recall for \"fraud\" is 88%, while precision is 4%\n",
    "#### - For SVC : Recall for \"fraud\" is 83%, while precision is 8%\n",
    "#### ---------------------------------------------------------------------------------------\n",
    "\n",
    "#### - F1 score for fraud is highest in Random Forest.\n",
    "#### - Logistic Regression and XGB  have scored better at Recall than Random Forest.\n",
    "#### - Overall precision scores for fraud are very poor across models indicating all models have classified lots of genuine transactions as fraud.\n",
    "#### - This could be because of massive undersampling with the model unable to learn trends of genuine transactions.\n",
    "#### ---------------------------------------------------------------------------------------"
   ]
  },
  {
   "cell_type": "markdown",
   "id": "e1a81ef4",
   "metadata": {},
   "source": [
    "## Training 2: ---------------------------------------------------------------------------\n",
    "## Oversampling minority class to 5% of majority and equating both classes (Fraud : 11329, Genuine : 11329)"
   ]
  },
  {
   "cell_type": "code",
   "execution_count": 47,
   "id": "5ff88eff",
   "metadata": {},
   "outputs": [],
   "source": [
    "#Adjusting XGBoost and Random Forest hyperparameters because they tend to overfit.\n",
    "model_2 = {\n",
    "    'XGBoost': XGBClassifier(max_depth = 4, min_child_weight =2, gamma = 3),\n",
    "    'Random Forest': RandomForestClassifier( max_depth = 8),\n",
    "    \"Logistic Regression\" : LogisticRegression(),\n",
    "    \"SVC\" : SVC()}"
   ]
  },
  {
   "cell_type": "code",
   "execution_count": 48,
   "id": "2637a05a",
   "metadata": {},
   "outputs": [],
   "source": [
    "kf = KFold(n_splits=5, shuffle=True, random_state=28)"
   ]
  },
  {
   "cell_type": "code",
   "execution_count": 49,
   "id": "211f3437",
   "metadata": {},
   "outputs": [],
   "source": [
    "Smote = SMOTE(sampling_strategy = 0.05, random_state=28)\n",
    "trainX2, trainY2 = Smote.fit_resample(trainX2, trainY2)"
   ]
  },
  {
   "cell_type": "code",
   "execution_count": 50,
   "id": "2c0317e9",
   "metadata": {},
   "outputs": [],
   "source": [
    "undersample = RandomUnderSampler(sampling_strategy=1, random_state=28)\n",
    "trainX2, trainY2 = undersample.fit_resample(trainX2,trainY2)"
   ]
  },
  {
   "cell_type": "code",
   "execution_count": 51,
   "id": "3803461c",
   "metadata": {
    "scrolled": false
   },
   "outputs": [
    {
     "data": {
      "text/plain": [
       "Class\n",
       "0    11329\n",
       "1    11329\n",
       "Name: count, dtype: int64"
      ]
     },
     "execution_count": 51,
     "metadata": {},
     "output_type": "execute_result"
    }
   ],
   "source": [
    "trainY2.value_counts()"
   ]
  },
  {
   "cell_type": "code",
   "execution_count": 52,
   "id": "e9d9690a",
   "metadata": {},
   "outputs": [],
   "source": [
    "accuracy_results2 = {}\n",
    "training_accuracy_results2 = {}\n",
    "classification_reports2 = {}"
   ]
  },
  {
   "cell_type": "code",
   "execution_count": 53,
   "id": "80fc8fb7",
   "metadata": {},
   "outputs": [],
   "source": [
    "for i,j in model_2.items():\n",
    "    cv_model = cross_val_predict(j, trainX2, trainY2, cv=kf)\n",
    "    j.fit(trainX2, trainY2)\n",
    "    y_pred2 = j.predict(testX2)\n",
    "    y_trainpred2 = j.predict(trainX2)\n",
    "\n",
    "    \n",
    "    trainaccuracy = accuracy_score(trainY2, y_trainpred2)\n",
    "    training_accuracy_results2[i] = trainaccuracy\n",
    "    \n",
    "    accuracy = accuracy_score(testY2, y_pred2)\n",
    "    accuracy_results2[i] = accuracy\n",
    "    \n",
    "    report = classification_report(testY2, y_pred2)\n",
    "    classification_reports2[i] = report\n"
   ]
  },
  {
   "cell_type": "code",
   "execution_count": null,
   "id": "c9529fe3",
   "metadata": {},
   "outputs": [],
   "source": []
  },
  {
   "cell_type": "code",
   "execution_count": 54,
   "id": "4d02c932",
   "metadata": {
    "scrolled": true
   },
   "outputs": [
    {
     "name": "stdout",
     "output_type": "stream",
     "text": [
      "XGBoost training accuracy:  0.9984\n",
      "XGBoost testing accuracy: 0.9938\n",
      "XGBoost Classification:\n",
      "               precision    recall  f1-score   support\n",
      "\n",
      "           0       1.00      0.99      1.00     56660\n",
      "           1       0.17      0.83      0.29        86\n",
      "\n",
      "    accuracy                           0.99     56746\n",
      "   macro avg       0.59      0.91      0.64     56746\n",
      "weighted avg       1.00      0.99      1.00     56746\n",
      "\n",
      "*******************************************************************\n",
      "Random Forest training accuracy:  0.9729\n",
      "Random Forest testing accuracy: 0.9973\n",
      "Random Forest Classification:\n",
      "               precision    recall  f1-score   support\n",
      "\n",
      "           0       1.00      1.00      1.00     56660\n",
      "           1       0.33      0.81      0.47        86\n",
      "\n",
      "    accuracy                           1.00     56746\n",
      "   macro avg       0.67      0.91      0.74     56746\n",
      "weighted avg       1.00      1.00      1.00     56746\n",
      "\n",
      "*******************************************************************\n",
      "Logistic Regression training accuracy:  0.9446\n",
      "Logistic Regression testing accuracy: 0.9779\n",
      "Logistic Regression Classification:\n",
      "               precision    recall  f1-score   support\n",
      "\n",
      "           0       1.00      0.98      0.99     56660\n",
      "           1       0.06      0.88      0.11        86\n",
      "\n",
      "    accuracy                           0.98     56746\n",
      "   macro avg       0.53      0.93      0.55     56746\n",
      "weighted avg       1.00      0.98      0.99     56746\n",
      "\n",
      "*******************************************************************\n",
      "SVC training accuracy:  0.9563\n",
      "SVC testing accuracy: 0.989\n",
      "SVC Classification:\n",
      "               precision    recall  f1-score   support\n",
      "\n",
      "           0       1.00      0.99      0.99     56660\n",
      "           1       0.11      0.86      0.19        86\n",
      "\n",
      "    accuracy                           0.99     56746\n",
      "   macro avg       0.55      0.92      0.59     56746\n",
      "weighted avg       1.00      0.99      0.99     56746\n",
      "\n",
      "*******************************************************************\n"
     ]
    }
   ],
   "source": [
    "for i, j in accuracy_results2.items():\n",
    "    print(f\"{i} training accuracy:  {round(training_accuracy_results2[i],4)}\")\n",
    "    print(f\"{i} testing accuracy: {round(j,4)}\")\n",
    "    print(f\"{i} Classification:\\n\", classification_reports2[i])\n",
    "    print(\"*******************************************************************\")"
   ]
  },
  {
   "cell_type": "markdown",
   "id": "78f6baa7",
   "metadata": {},
   "source": [
    "## Results:\n",
    "#### - For XGB : Recall for \"fraud\" is 83%, while precision is 17%\n",
    "#### - For RFC : Recall for \"fraud\" is 81%, while precision is 33%\n",
    "#### - For LogR : Recall for \"fraud\" is 88%, while precision is 6%\n",
    "#### - For SVC : Recall for \"fraud\" is 86%, while precision is 11%\n",
    "#### ---------------------------------------------------------------------------------------\n",
    "#### - F1 score with a larger sample has improved, especially for both tree based models.\n",
    "#### - Precision is still low, with only Random Forest performing relatively better than other models in not classifying genuine classes as fraud.\n",
    "#### - Changing the hyperparameters did not increase scores much.\n",
    "#### ---------------------------------------------------------------------------------------"
   ]
  },
  {
   "cell_type": "markdown",
   "id": "27cf8955",
   "metadata": {},
   "source": [
    "## Training 3 : ---------------------------------------------------------------------------\n",
    "## Oversampling minority class to 20% of majority and equating both classes (Fraud : 45318, Genuine : 45318)"
   ]
  },
  {
   "cell_type": "code",
   "execution_count": 55,
   "id": "3fedd8e2",
   "metadata": {},
   "outputs": [],
   "source": [
    "models3 = {\n",
    "    'XGBoost': XGBClassifier(max_depth = 5, min_child_weight =5, gamma = 4), #dropping max depth any lower decreases learning capacity f1 score, reducing gamma causes 100% training accuracy (overfitting while test f1 scores remain low) \n",
    "    'Random Forest': RandomForestClassifier( max_depth = 10),\n",
    "    \"Logistic Regression\" : LogisticRegression(),\n",
    "    \"SVC\" : SVC()}"
   ]
  },
  {
   "cell_type": "code",
   "execution_count": 56,
   "id": "f920f1f9",
   "metadata": {},
   "outputs": [],
   "source": [
    "kf = KFold(n_splits=5, shuffle=True, random_state=28)"
   ]
  },
  {
   "cell_type": "code",
   "execution_count": 57,
   "id": "d3f18e8f",
   "metadata": {},
   "outputs": [],
   "source": [
    "Smote = SMOTE(sampling_strategy = 0.2, random_state=28)\n",
    "trainX3, trainY3 = Smote.fit_resample(trainX3, trainY3)"
   ]
  },
  {
   "cell_type": "code",
   "execution_count": 58,
   "id": "cb49c5b0",
   "metadata": {},
   "outputs": [],
   "source": [
    "undersample = RandomUnderSampler(sampling_strategy=1, random_state=28)\n",
    "trainX3, trainY3 = undersample.fit_resample(trainX3,trainY3)"
   ]
  },
  {
   "cell_type": "code",
   "execution_count": 59,
   "id": "b3f85f69",
   "metadata": {
    "scrolled": false
   },
   "outputs": [
    {
     "data": {
      "text/plain": [
       "Class\n",
       "0    45318\n",
       "1    45318\n",
       "Name: count, dtype: int64"
      ]
     },
     "execution_count": 59,
     "metadata": {},
     "output_type": "execute_result"
    }
   ],
   "source": [
    "trainY3.value_counts()"
   ]
  },
  {
   "cell_type": "code",
   "execution_count": 60,
   "id": "f92bd74b",
   "metadata": {},
   "outputs": [],
   "source": [
    "accuracy_results3 = {}\n",
    "training_accuracy_results3 = {}\n",
    "classification_reports3 = {}"
   ]
  },
  {
   "cell_type": "code",
   "execution_count": 61,
   "id": "f696d5b9",
   "metadata": {},
   "outputs": [],
   "source": [
    "for i,j in models3.items():\n",
    "    cv_model = cross_val_predict(j, trainX3, trainY3, cv=kf)\n",
    "    j.fit(trainX3, trainY3)\n",
    "    y_pred3 = j.predict(testX3)\n",
    "    y_trainpred3 = j.predict(trainX3)\n",
    "    \n",
    "    trainaccuracy = accuracy_score(trainY3, y_trainpred3)\n",
    "    training_accuracy_results3[i] = trainaccuracy\n",
    "    \n",
    "    accuracy = accuracy_score(testY3, y_pred3)\n",
    "    accuracy_results3[i] = accuracy\n",
    "    \n",
    "    report = classification_report(testY3, y_pred3)\n",
    "    classification_reports3[i] = report\n",
    "    \n",
    "    "
   ]
  },
  {
   "cell_type": "code",
   "execution_count": 62,
   "id": "304aebae",
   "metadata": {
    "scrolled": true
   },
   "outputs": [
    {
     "name": "stdout",
     "output_type": "stream",
     "text": [
      "XGBoost training accuracy:  0.9994\n",
      "XGBoost testing accuracy: 0.9974\n",
      "XGBoost Classification:\n",
      "               precision    recall  f1-score   support\n",
      "\n",
      "           0       1.00      1.00      1.00     56660\n",
      "           1       0.35      0.84      0.49        86\n",
      "\n",
      "    accuracy                           1.00     56746\n",
      "   macro avg       0.67      0.92      0.75     56746\n",
      "weighted avg       1.00      1.00      1.00     56746\n",
      "\n",
      "*******************************************************************\n",
      "Random Forest training accuracy:  0.9889\n",
      "Random Forest testing accuracy: 0.9986\n",
      "Random Forest Classification:\n",
      "               precision    recall  f1-score   support\n",
      "\n",
      "           0       1.00      1.00      1.00     56660\n",
      "           1       0.53      0.80      0.64        86\n",
      "\n",
      "    accuracy                           1.00     56746\n",
      "   macro avg       0.77      0.90      0.82     56746\n",
      "weighted avg       1.00      1.00      1.00     56746\n",
      "\n",
      "*******************************************************************\n",
      "Logistic Regression training accuracy:  0.9477\n",
      "Logistic Regression testing accuracy: 0.9785\n",
      "Logistic Regression Classification:\n",
      "               precision    recall  f1-score   support\n",
      "\n",
      "           0       1.00      0.98      0.99     56660\n",
      "           1       0.06      0.88      0.11        86\n",
      "\n",
      "    accuracy                           0.98     56746\n",
      "   macro avg       0.53      0.93      0.55     56746\n",
      "weighted avg       1.00      0.98      0.99     56746\n",
      "\n",
      "*******************************************************************\n",
      "SVC training accuracy:  0.9687\n",
      "SVC testing accuracy: 0.9885\n",
      "SVC Classification:\n",
      "               precision    recall  f1-score   support\n",
      "\n",
      "           0       1.00      0.99      0.99     56660\n",
      "           1       0.10      0.87      0.19        86\n",
      "\n",
      "    accuracy                           0.99     56746\n",
      "   macro avg       0.55      0.93      0.59     56746\n",
      "weighted avg       1.00      0.99      0.99     56746\n",
      "\n",
      "*******************************************************************\n"
     ]
    }
   ],
   "source": [
    "for i, j in accuracy_results3.items():\n",
    "    print(f\"{i} training accuracy:  {round(training_accuracy_results3[i],4)}\")\n",
    "    print(f\"{i} testing accuracy: {round(j,4)}\")\n",
    "    print(f\"{i} Classification:\\n\", classification_reports3[i])\n",
    "    print(\"*******************************************************************\")"
   ]
  },
  {
   "cell_type": "markdown",
   "id": "e86ec7e1",
   "metadata": {},
   "source": [
    "## Results:\n",
    "#### - For XGB : Recall for \"fraud\" is 84%, while precision is 35%\n",
    "#### - For RFC : Recall for \"fraud\" is 80%, while precision is 53%\n",
    "#### - For LogR : Recall for \"fraud\" is 88%, while precision is 6%\n",
    "#### - For SVC : Recall for \"fraud\" is 87%, while precision is 10%\n",
    "#### ---------------------------------------------------------------------------------------\n",
    "#### - All models have maintained  good recall scores across all samples of training .  \n",
    "#### - As sample size increased, the Precision and F1 score also increased for Tree-based models.\n",
    "#### - This variation was selected , because it achieved a 80% + in recall and a better Precision and F1 score than the previous 5% run. ( I attempted another run with 120,000 Genuine rows and 120,000 Frauds but the dataset overfit at 100% and precision scores improved slightly with more number of Genuine rows to learn from but Recall scores did not improve and dropped to below 80)\n",
    "#### - A reason for Low precision scores could be the models fail to accurately classify fraud classes because of the overlap in the trends of the synthetic duplicated rows of SMOTE.\n",
    "#### - This is a reason why heavy imbalance in datasets is generally not favoured.\n",
    "#### - Confusion Matrix has been analyzed in Sagemaker.\n",
    "#### ---------------------------------------------------------------------------------------"
   ]
  },
  {
   "cell_type": "markdown",
   "id": "93b42cd1",
   "metadata": {},
   "source": [
    "## Feature importance"
   ]
  },
  {
   "cell_type": "markdown",
   "id": "7feab36a",
   "metadata": {},
   "source": [
    "#### V14 has contributed far ahead than other features with Amount and Time features contributing lesser than most others. "
   ]
  },
  {
   "cell_type": "code",
   "execution_count": 63,
   "id": "4db09da5",
   "metadata": {},
   "outputs": [],
   "source": [
    "# Getting the vital features for Random Forest model for the 3rd variation\n",
    "importances = models['Random Forest'].feature_importances_\n",
    "feature_names = trainX3.columns"
   ]
  },
  {
   "cell_type": "code",
   "execution_count": 64,
   "id": "b2fbdccf",
   "metadata": {},
   "outputs": [],
   "source": [
    "feature_importance_df = pd.DataFrame({\n",
    "    'Feature': trainX3.columns,\n",
    "    'Importance': importances})\n",
    "feature_importance_df = feature_importance_df.sort_values(by='Importance', ascending=False)"
   ]
  },
  {
   "cell_type": "code",
   "execution_count": 65,
   "id": "db55fa30",
   "metadata": {},
   "outputs": [
    {
     "data": {
      "image/png": "[encoded data removed]",
      "text/plain": [
       "<Figure size 1000x600 with 1 Axes>"
      ]
     },
     "metadata": {},
     "output_type": "display_data"
    }
   ],
   "source": [
    "import seaborn as sns\n",
    "\n",
    "plt.figure(figsize=(10, 6))\n",
    "sns.barplot(x='Importance', y='Feature', data=feature_importance_df, palette='viridis')\n",
    "plt.title('Random Forest Feature Importance')\n",
    "plt.show()"
   ]
  },
  {
   "cell_type": "code",
   "execution_count": 66,
   "id": "e650588a",
   "metadata": {},
   "outputs": [],
   "source": [
    "trainX3 = trainX3.reset_index(drop = True)\n",
    "trainY3 = trainY3.reset_index(drop = True)"
   ]
  },
  {
   "cell_type": "code",
   "execution_count": 67,
   "id": "7a0e2e92",
   "metadata": {},
   "outputs": [],
   "source": [
    "#Concatenate X and Y train to send to S3\n",
    "train_dataset = pd.concat([trainX3, trainY3], axis=1)"
   ]
  },
  {
   "cell_type": "code",
   "execution_count": 68,
   "id": "3f24c175",
   "metadata": {},
   "outputs": [],
   "source": [
    "testX3 = testX3.reset_index(drop = True)\n",
    "testY3 = testY3.reset_index(drop = True)"
   ]
  },
  {
   "cell_type": "code",
   "execution_count": 69,
   "id": "ffbbd7bf",
   "metadata": {},
   "outputs": [],
   "source": [
    "#Concatenate X and Y test to send to S3\n",
    "test_dataset = pd.concat([testX3, testY3], axis=1)"
   ]
  },
  {
   "cell_type": "markdown",
   "id": "36202377",
   "metadata": {},
   "source": [
    "## Sagemaker"
   ]
  },
  {
   "cell_type": "code",
   "execution_count": 70,
   "id": "47563135",
   "metadata": {},
   "outputs": [
    {
     "name": "stdout",
     "output_type": "stream",
     "text": [
      "sagemaker.config INFO - Not applying SDK defaults from location: /etc/xdg/sagemaker/config.yaml\n",
      "sagemaker.config INFO - Not applying SDK defaults from location: /home/ec2-user/.config/sagemaker/config.yaml\n",
      "sagemaker-us-east-1-235494776661\n"
     ]
    }
   ],
   "source": [
    "#Creating a Sagemaker session and bucket\n",
    "import sagemaker\n",
    "session = sagemaker.Session()\n",
    "bucket = session.default_bucket()\n",
    "print(bucket)"
   ]
  },
  {
   "cell_type": "code",
   "execution_count": 71,
   "id": "fd00aaa0",
   "metadata": {},
   "outputs": [],
   "source": [
    "bucket_name = \"sagemaker-us-east-1-235494776661\""
   ]
  },
  {
   "cell_type": "code",
   "execution_count": 72,
   "id": "2640ea22",
   "metadata": {},
   "outputs": [],
   "source": [
    "#Converting train and test to CSV format to send to S3 bucket \n",
    "train_dataset.to_csv (\"trainX_pathcreditcard\", index = False)\n",
    "test_dataset.to_csv (\"testX_pathcreditcard\", index = False)"
   ]
  },
  {
   "cell_type": "code",
   "execution_count": 73,
   "id": "88e93891",
   "metadata": {},
   "outputs": [
    {
     "name": "stdout",
     "output_type": "stream",
     "text": [
      "Train path: s3://sagemaker-us-east-1-235494776661/sagemaker/creditcardfraud/trainX_pathcreditcard\n",
      "Test path: s3://sagemaker-us-east-1-235494776661/sagemaker/creditcardfraud/testX_pathcreditcard\n"
     ]
    }
   ],
   "source": [
    "# Sending the files to S3\n",
    "train_path = session.upload_data(path=\"trainX_pathcreditcard\", bucket=bucket_name, key_prefix=\"sagemaker/creditcardfraud\")\n",
    "test_path = session.upload_data(path=\"testX_pathcreditcard\", bucket=bucket_name, key_prefix=\"sagemaker/creditcardfraud\")\n",
    "\n",
    "print(f\"Train path: {train_path}\")\n",
    "print(f\"Test path: {test_path}\")"
   ]
  },
  {
   "cell_type": "code",
   "execution_count": 74,
   "id": "e2d59c49",
   "metadata": {
    "scrolled": true
   },
   "outputs": [
    {
     "name": "stdout",
     "output_type": "stream",
     "text": [
      "(90636, 31)\n"
     ]
    },
    {
     "data": {
      "text/html": [
       "<div>\n",
       "<style scoped>\n",
       "    .dataframe tbody tr th:only-of-type {\n",
       "        vertical-align: middle;\n",
       "    }\n",
       "\n",
       "    .dataframe tbody tr th {\n",
       "        vertical-align: top;\n",
       "    }\n",
       "\n",
       "    .dataframe thead th {\n",
       "        text-align: right;\n",
       "    }\n",
       "</style>\n",
       "<table border=\"1\" class=\"dataframe\">\n",
       "  <thead>\n",
       "    <tr style=\"text-align: right;\">\n",
       "      <th></th>\n",
       "      <th>Time</th>\n",
       "      <th>V1</th>\n",
       "      <th>V2</th>\n",
       "      <th>V3</th>\n",
       "      <th>V4</th>\n",
       "      <th>V5</th>\n",
       "      <th>V6</th>\n",
       "      <th>V7</th>\n",
       "      <th>V8</th>\n",
       "      <th>V9</th>\n",
       "      <th>...</th>\n",
       "      <th>V21</th>\n",
       "      <th>V22</th>\n",
       "      <th>V23</th>\n",
       "      <th>V24</th>\n",
       "      <th>V25</th>\n",
       "      <th>V26</th>\n",
       "      <th>V27</th>\n",
       "      <th>V28</th>\n",
       "      <th>Amount</th>\n",
       "      <th>Class</th>\n",
       "    </tr>\n",
       "  </thead>\n",
       "  <tbody>\n",
       "    <tr>\n",
       "      <th>0</th>\n",
       "      <td>-0.474800</td>\n",
       "      <td>1.246448</td>\n",
       "      <td>0.395872</td>\n",
       "      <td>0.303920</td>\n",
       "      <td>1.113172</td>\n",
       "      <td>-0.233193</td>\n",
       "      <td>-0.956060</td>\n",
       "      <td>0.243426</td>\n",
       "      <td>-0.254696</td>\n",
       "      <td>-0.075229</td>\n",
       "      <td>...</td>\n",
       "      <td>0.031128</td>\n",
       "      <td>0.157741</td>\n",
       "      <td>-0.103507</td>\n",
       "      <td>0.402899</td>\n",
       "      <td>0.701585</td>\n",
       "      <td>-0.329304</td>\n",
       "      <td>0.016397</td>\n",
       "      <td>0.021007</td>\n",
       "      <td>-0.256121</td>\n",
       "      <td>0</td>\n",
       "    </tr>\n",
       "    <tr>\n",
       "      <th>1</th>\n",
       "      <td>-0.196975</td>\n",
       "      <td>-0.816832</td>\n",
       "      <td>-0.317234</td>\n",
       "      <td>3.004232</td>\n",
       "      <td>-1.386360</td>\n",
       "      <td>-1.404141</td>\n",
       "      <td>0.608346</td>\n",
       "      <td>-0.898615</td>\n",
       "      <td>0.612256</td>\n",
       "      <td>0.446281</td>\n",
       "      <td>...</td>\n",
       "      <td>0.145450</td>\n",
       "      <td>0.735788</td>\n",
       "      <td>-0.348689</td>\n",
       "      <td>0.088558</td>\n",
       "      <td>0.411740</td>\n",
       "      <td>-0.076539</td>\n",
       "      <td>0.349478</td>\n",
       "      <td>0.122254</td>\n",
       "      <td>-0.222593</td>\n",
       "      <td>0</td>\n",
       "    </tr>\n",
       "    <tr>\n",
       "      <th>2</th>\n",
       "      <td>0.810182</td>\n",
       "      <td>2.259102</td>\n",
       "      <td>-1.471543</td>\n",
       "      <td>-0.971554</td>\n",
       "      <td>-1.766255</td>\n",
       "      <td>-1.011867</td>\n",
       "      <td>0.074752</td>\n",
       "      <td>-1.340102</td>\n",
       "      <td>0.046454</td>\n",
       "      <td>-1.329778</td>\n",
       "      <td>...</td>\n",
       "      <td>-0.129567</td>\n",
       "      <td>0.077760</td>\n",
       "      <td>0.233062</td>\n",
       "      <td>0.268212</td>\n",
       "      <td>-0.232346</td>\n",
       "      <td>-0.202859</td>\n",
       "      <td>0.013618</td>\n",
       "      <td>-0.053213</td>\n",
       "      <td>-0.013912</td>\n",
       "      <td>0</td>\n",
       "    </tr>\n",
       "    <tr>\n",
       "      <th>3</th>\n",
       "      <td>0.453680</td>\n",
       "      <td>-0.459123</td>\n",
       "      <td>1.371284</td>\n",
       "      <td>-0.834250</td>\n",
       "      <td>-0.309723</td>\n",
       "      <td>0.754764</td>\n",
       "      <td>-0.162928</td>\n",
       "      <td>0.474200</td>\n",
       "      <td>0.480741</td>\n",
       "      <td>-0.473647</td>\n",
       "      <td>...</td>\n",
       "      <td>-0.196330</td>\n",
       "      <td>-0.605959</td>\n",
       "      <td>0.130123</td>\n",
       "      <td>0.085267</td>\n",
       "      <td>-0.973899</td>\n",
       "      <td>0.186201</td>\n",
       "      <td>0.159823</td>\n",
       "      <td>0.227343</td>\n",
       "      <td>-0.180996</td>\n",
       "      <td>0</td>\n",
       "    </tr>\n",
       "    <tr>\n",
       "      <th>4</th>\n",
       "      <td>0.586813</td>\n",
       "      <td>2.043048</td>\n",
       "      <td>0.162998</td>\n",
       "      <td>-1.725068</td>\n",
       "      <td>0.529387</td>\n",
       "      <td>0.156958</td>\n",
       "      <td>-1.435864</td>\n",
       "      <td>0.234951</td>\n",
       "      <td>-0.345388</td>\n",
       "      <td>0.656055</td>\n",
       "      <td>...</td>\n",
       "      <td>0.196997</td>\n",
       "      <td>0.723357</td>\n",
       "      <td>-0.014780</td>\n",
       "      <td>-0.113849</td>\n",
       "      <td>0.225737</td>\n",
       "      <td>-0.095700</td>\n",
       "      <td>-0.002697</td>\n",
       "      <td>-0.032239</td>\n",
       "      <td>-0.208820</td>\n",
       "      <td>0</td>\n",
       "    </tr>\n",
       "  </tbody>\n",
       "</table>\n",
       "<p>5 rows × 31 columns</p>\n",
       "</div>"
      ],
      "text/plain": [
       "       Time        V1        V2        V3        V4        V5        V6  \\\n",
       "0 -0.474800  1.246448  0.395872  0.303920  1.113172 -0.233193 -0.956060   \n",
       "1 -0.196975 -0.816832 -0.317234  3.004232 -1.386360 -1.404141  0.608346   \n",
       "2  0.810182  2.259102 -1.471543 -0.971554 -1.766255 -1.011867  0.074752   \n",
       "3  0.453680 -0.459123  1.371284 -0.834250 -0.309723  0.754764 -0.162928   \n",
       "4  0.586813  2.043048  0.162998 -1.725068  0.529387  0.156958 -1.435864   \n",
       "\n",
       "         V7        V8        V9  ...       V21       V22       V23       V24  \\\n",
       "0  0.243426 -0.254696 -0.075229  ...  0.031128  0.157741 -0.103507  0.402899   \n",
       "1 -0.898615  0.612256  0.446281  ...  0.145450  0.735788 -0.348689  0.088558   \n",
       "2 -1.340102  0.046454 -1.329778  ... -0.129567  0.077760  0.233062  0.268212   \n",
       "3  0.474200  0.480741 -0.473647  ... -0.196330 -0.605959  0.130123  0.085267   \n",
       "4  0.234951 -0.345388  0.656055  ...  0.196997  0.723357 -0.014780 -0.113849   \n",
       "\n",
       "        V25       V26       V27       V28    Amount  Class  \n",
       "0  0.701585 -0.329304  0.016397  0.021007 -0.256121      0  \n",
       "1  0.411740 -0.076539  0.349478  0.122254 -0.222593      0  \n",
       "2 -0.232346 -0.202859  0.013618 -0.053213 -0.013912      0  \n",
       "3 -0.973899  0.186201  0.159823  0.227343 -0.180996      0  \n",
       "4  0.225737 -0.095700 -0.002697 -0.032239 -0.208820      0  \n",
       "\n",
       "[5 rows x 31 columns]"
      ]
     },
     "execution_count": 74,
     "metadata": {},
     "output_type": "execute_result"
    }
   ],
   "source": [
    "#Reading train and test CSVs from S3\n",
    "trainX = pd.read_csv(\"s3://sagemaker-us-east-1-235494776661/sagemaker/creditcardfraud/trainX_pathcreditcard\")\n",
    "\n",
    "testX = pd.read_csv(\"s3://sagemaker-us-east-1-235494776661/sagemaker/creditcardfraud/testX_pathcreditcard\")\n",
    "\n",
    "print(trainX.shape)\n",
    "trainX.head()"
   ]
  },
  {
   "cell_type": "markdown",
   "id": "4af4fcee",
   "metadata": {},
   "source": [
    "## Sagemaker Training file\n",
    "#### Train.py file is used to define the loading , processing, model, model training, and evaluation steps"
   ]
  },
  {
   "cell_type": "code",
   "execution_count": 75,
   "id": "3f356557",
   "metadata": {},
   "outputs": [
    {
     "name": "stdout",
     "output_type": "stream",
     "text": [
      "Overwriting train.py\n"
     ]
    }
   ],
   "source": [
    "%%writefile train.py\n",
    "\n",
    "import argparse\n",
    "import os\n",
    "import pandas as pd\n",
    "import numpy as np\n",
    "import joblib\n",
    "from sklearn.ensemble import RandomForestClassifier\n",
    "from sklearn.metrics import classification_report, roc_auc_score, accuracy_score,confusion_matrix\n",
    "\n",
    "model_file_name = \"creditfraudpmc.joblib\"\n",
    "\n",
    "# Main function\n",
    "def main():\n",
    "    # Arguments\n",
    "    parser = argparse.ArgumentParser()\n",
    "    \n",
    "    # Inbuilt Arguments: https://github.com/aws/sagemaker-containers#id11\n",
    "    parser.add_argument(\"--model_dir\", type=str, default=os.environ.get(\"SM_MODEL_DIR\"))\n",
    "    \n",
    "    # Custom Arguments\n",
    "    parser.add_argument(\"--n_estimators\", type=int, default=100)\n",
    "    parser.add_argument(\"--min_samples_split\", type=int, default=2)\n",
    "    parser.add_argument(\"--criterion\", type=str, default=\"gini\")\n",
    "    parser.add_argument(\"--max_features\", type=str, default=\"sqrt\")\n",
    "    parser.add_argument(\"--min_samples_leaf\", type=int, default=2)\n",
    "    parser.add_argument(\"--max_depth\", type=int, default=10)\n",
    "    \n",
    "    \n",
    "    args, _ = parser.parse_known_args()\n",
    "    \n",
    "    #DATA_LOAD\n",
    "    trainX = pd.read_csv(\"s3://sagemaker-us-east-1-235494776661/sagemaker/creditcardfraud/trainX_pathcreditcard\")\n",
    "    testX = pd.read_csv(\"s3://sagemaker-us-east-1-235494776661/sagemaker/creditcardfraud/testX_pathcreditcard\")\n",
    "\n",
    "    #X&Y_SPLIT\n",
    "    trainY = trainX[\"Class\"]\n",
    "    trainX = trainX.drop(columns=[\"Class\"])\n",
    "    testY = testX[\"Class\"]\n",
    "    testX = testX.drop(columns=[\"Class\"])\n",
    "    \n",
    "    # Random Forest Model\n",
    "    model = RandomForestClassifier(n_estimators=args.n_estimators, \n",
    "                                   min_samples_split=args.min_samples_split,\n",
    "                                   criterion=args.criterion, \n",
    "                                   min_samples_leaf = args.min_samples_leaf,\n",
    "                                   max_depth = args.max_depth, \n",
    "                                   max_features = args.max_features )\n",
    "    \n",
    "    # MODEL_FIT\n",
    "    model.fit(trainX, trainY)\n",
    "\n",
    "    # Training data accuracy\n",
    "    train_accuracy = model.score(trainX, trainY)\n",
    "    print(f\"Training Accuracy: {train_accuracy:.4f}\")\n",
    "\n",
    "    # Testing data accuracy\n",
    "    test_accuracy = model.score(testX, testY)\n",
    "    print(f\"Testing Accuracy: {test_accuracy:.4f}\")\n",
    "    \n",
    "    # Classification_report\n",
    "    y_pred = model.predict(testX)\n",
    "    report = classification_report(testY, y_pred)\n",
    "    print(\"Classification Report:\\n\", report)\n",
    "    \n",
    "    # ROC AUC score\n",
    "    auc_score = roc_auc_score(testY, y_pred)\n",
    "    print(f'AUC ROC Score: {auc_score:.2f}')\n",
    "    \n",
    "    #Confusion Matrix\n",
    "    matrix = confusion_matrix(testY, y_pred)\n",
    "    print('Confusion Matrix:\\n', matrix)\n",
    "\n",
    "    print(f\"Shape of trainX: {trainX.shape}\")\n",
    "    print(f\"Shape of trainY: {trainY.shape}\")\n",
    "    print(f\"Shape of testX: {testX.shape}\")\n",
    "    print(f\"Shape of testY: {testY.shape}\")\n",
    "    print(\"\\nValue counts for trainY:\")\n",
    "    print(trainY.value_counts())\n",
    "    print(\"\\nValue counts for testY:\")\n",
    "    print(testY.value_counts())\n",
    "    \n",
    "    # Save the model\n",
    "    model_save_path = os.path.join(args.model_dir, model_file_name)\n",
    "    joblib.dump(model, model_save_path)\n",
    "    print(f\"Model saved at {model_save_path}\")\n",
    "    \n",
    "    \n",
    "# Run the main function when the script runs\n",
    "if __name__ == \"__main__\":\n",
    "    main()"
   ]
  },
  {
   "cell_type": "code",
   "execution_count": null,
   "id": "2c3fe1b6",
   "metadata": {},
   "outputs": [],
   "source": [
    "# Requirements file, with botocore version edited due to version errors"
   ]
  },
  {
   "cell_type": "code",
   "execution_count": 76,
   "id": "00eb1e49",
   "metadata": {},
   "outputs": [
    {
     "name": "stdout",
     "output_type": "stream",
     "text": [
      "Overwriting requirements.txt\n"
     ]
    }
   ],
   "source": [
    "%%writefile requirements.txt\n",
    "pandas\n",
    "scikit-learn\n",
    "fsspec\n",
    "s3fs\n",
    "imbalanced-learn\n",
    "botocore == 1.31.57"
   ]
  },
  {
   "cell_type": "code",
   "execution_count": 77,
   "id": "dbcb22ee",
   "metadata": {
    "scrolled": true
   },
   "outputs": [
    {
     "name": "stderr",
     "output_type": "stream",
     "text": [
      "INFO:sagemaker:Creating training-job with name: creditfraud-check-2024-10-09-05-20-10-287\n"
     ]
    },
    {
     "name": "stdout",
     "output_type": "stream",
     "text": [
      "2024-10-09 05:20:11 Starting - Starting the training job...\n",
      "2024-10-09 05:20:37 Starting - Preparing the instances for training......\n",
      "2024-10-09 05:21:34 Downloading - Downloading the training image.........\n",
      "2024-10-09 05:22:55 Training - Training image download completed. Training in progress.\u001b[34m2024-10-09 05:23:03,670 sagemaker-containers INFO     Imported framework sagemaker_sklearn_container.training\u001b[0m\n",
      "\u001b[34m2024-10-09 05:23:03,674 sagemaker-training-toolkit INFO     No GPUs detected (normal if no gpus installed)\u001b[0m\n",
      "\u001b[34m2024-10-09 05:23:03,677 sagemaker-training-toolkit INFO     No Neurons detected (normal if no neurons installed)\u001b[0m\n",
      "\u001b[34m2024-10-09 05:23:03,695 sagemaker_sklearn_container.training INFO     Invoking user training script.\u001b[0m\n",
      "\u001b[34m2024-10-09 05:23:03,949 sagemaker-training-toolkit INFO     Installing dependencies from requirements.txt:\u001b[0m\n",
      "\u001b[34m/miniconda3/bin/python -m pip install -r requirements.txt\u001b[0m\n",
      "\u001b[34mRequirement already satisfied: pandas in /miniconda3/lib/python3.8/site-packages (from -r requirements.txt (line 1)) (1.1.3)\u001b[0m\n",
      "\u001b[34mRequirement already satisfied: scikit-learn in /miniconda3/lib/python3.8/site-packages (from -r requirements.txt (line 2)) (1.0.2)\u001b[0m\n",
      "\u001b[34mCollecting fsspec (from -r requirements.txt (line 3))\n",
      "  Downloading fsspec-2024.9.0-py3-none-any.whl.metadata (11 kB)\u001b[0m\n",
      "\u001b[34mCollecting s3fs (from -r requirements.txt (line 4))\n",
      "  Downloading s3fs-2024.9.0-py3-none-any.whl.metadata (1.6 kB)\u001b[0m\n",
      "\u001b[34mCollecting imbalanced-learn (from -r requirements.txt (line 5))\n",
      "  Downloading imbalanced_learn-0.12.4-py3-none-any.whl.metadata (8.3 kB)\u001b[0m\n",
      "\u001b[34mCollecting botocore==1.31.57 (from -r requirements.txt (line 6))\n",
      "  Downloading botocore-1.31.57-py3-none-any.whl.metadata (6.0 kB)\u001b[0m\n",
      "\u001b[34mRequirement already satisfied: jmespath<2.0.0,>=0.7.1 in /miniconda3/lib/python3.8/site-packages (from botocore==1.31.57->-r requirements.txt (line 6)) (1.0.1)\u001b[0m\n",
      "\u001b[34mRequirement already satisfied: python-dateutil<3.0.0,>=2.1 in /miniconda3/lib/python3.8/site-packages (from botocore==1.31.57->-r requirements.txt (line 6)) (2.8.1)\u001b[0m\n",
      "\u001b[34mRequirement already satisfied: urllib3<1.27,>=1.25.4 in /miniconda3/lib/python3.8/site-packages (from botocore==1.31.57->-r requirements.txt (line 6)) (1.26.18)\u001b[0m\n",
      "\u001b[34mRequirement already satisfied: pytz>=2017.2 in /miniconda3/lib/python3.8/site-packages (from pandas->-r requirements.txt (line 1)) (2023.3.post1)\u001b[0m\n",
      "\u001b[34mRequirement already satisfied: numpy>=1.15.4 in /miniconda3/lib/python3.8/site-packages (from pandas->-r requirements.txt (line 1)) (1.24.1)\u001b[0m\n",
      "\u001b[34mRequirement already satisfied: scipy>=1.1.0 in /miniconda3/lib/python3.8/site-packages (from scikit-learn->-r requirements.txt (line 2)) (1.8.0)\u001b[0m\n",
      "\u001b[34mRequirement already satisfied: joblib>=0.11 in /miniconda3/lib/python3.8/site-packages (from scikit-learn->-r requirements.txt (line 2)) (1.3.2)\u001b[0m\n",
      "\u001b[34mRequirement already satisfied: threadpoolctl>=2.0.0 in /miniconda3/lib/python3.8/site-packages (from scikit-learn->-r requirements.txt (line 2)) (3.2.0)\u001b[0m\n",
      "\u001b[34mCollecting aiobotocore<3.0.0,>=2.5.4 (from s3fs->-r requirements.txt (line 4))\n",
      "  Downloading aiobotocore-2.15.1-py3-none-any.whl.metadata (23 kB)\u001b[0m\n",
      "\u001b[34mCollecting aiohttp!=4.0.0a0,!=4.0.0a1 (from s3fs->-r requirements.txt (line 4))\n",
      "  Downloading aiohttp-3.10.9-cp38-cp38-manylinux_2_17_x86_64.manylinux2014_x86_64.whl.metadata (7.6 kB)\u001b[0m\n",
      "\u001b[34mINFO: pip is looking at multiple versions of aiobotocore to determine which version is compatible with other requirements. This could take a while.\u001b[0m\n",
      "\u001b[34mCollecting aiobotocore<3.0.0,>=2.5.4 (from s3fs->-r requirements.txt (line 4))\n",
      "  Downloading aiobotocore-2.15.0-py3-none-any.whl.metadata (23 kB)\n",
      "  Downloading aiobotocore-2.14.0-py3-none-any.whl.metadata (23 kB)\n",
      "  Downloading aiobotocore-2.13.3-py3-none-any.whl.metadata (22 kB)\n",
      "  Downloading aiobotocore-2.13.2-py3-none-any.whl.metadata (22 kB)\n",
      "  Downloading aiobotocore-2.13.1-py3-none-any.whl.metadata (22 kB)\n",
      "  Downloading aiobotocore-2.13.0-py3-none-any.whl.metadata (21 kB)\u001b[0m\n",
      "\u001b[34m  Downloading aiobotocore-2.12.4-py3-none-any.whl.metadata (21 kB)\u001b[0m\n",
      "\u001b[34mINFO: pip is still looking at multiple versions of aiobotocore to determine which version is compatible with other requirements. This could take a while.\n",
      "  Downloading aiobotocore-2.12.3-py3-none-any.whl.metadata (21 kB)\n",
      "  Downloading aiobotocore-2.12.2-py3-none-any.whl.metadata (21 kB)\n",
      "  Downloading aiobotocore-2.12.1-py3-none-any.whl.metadata (21 kB)\n",
      "  Downloading aiobotocore-2.12.0-py3-none-any.whl.metadata (21 kB)\n",
      "  Downloading aiobotocore-2.11.2-py3-none-any.whl.metadata (21 kB)\u001b[0m\n",
      "\u001b[34mINFO: This is taking longer than usual. You might need to provide the dependency resolver with stricter constraints to reduce runtime. See https://pip.pypa.io/warnings/backtracking for guidance. If you want to abort this run, press Ctrl + C.\n",
      "  Downloading aiobotocore-2.11.1-py3-none-any.whl.metadata (21 kB)\u001b[0m\n",
      "\u001b[34m  Downloading aiobotocore-2.11.0-py3-none-any.whl.metadata (21 kB)\n",
      "  Downloading aiobotocore-2.10.0-py3-none-any.whl.metadata (20 kB)\n",
      "  Downloading aiobotocore-2.9.1-py3-none-any.whl.metadata (20 kB)\n",
      "  Downloading aiobotocore-2.9.0-py3-none-any.whl.metadata (20 kB)\n",
      "  Downloading aiobotocore-2.8.0-py3-none-any.whl.metadata (20 kB)\n",
      "  Downloading aiobotocore-2.7.0-py3-none-any.whl.metadata (20 kB)\u001b[0m\n",
      "\u001b[34mCollecting wrapt<2.0.0,>=1.10.10 (from aiobotocore<3.0.0,>=2.5.4->s3fs->-r requirements.txt (line 4))\n",
      "  Downloading wrapt-1.16.0-cp38-cp38-manylinux_2_5_x86_64.manylinux1_x86_64.manylinux_2_17_x86_64.manylinux2014_x86_64.whl.metadata (6.6 kB)\u001b[0m\n",
      "\u001b[34mCollecting aioitertools<1.0.0,>=0.5.1 (from aiobotocore<3.0.0,>=2.5.4->s3fs->-r requirements.txt (line 4))\u001b[0m\n",
      "\u001b[34m  Downloading aioitertools-0.12.0-py3-none-any.whl.metadata (3.8 kB)\u001b[0m\n",
      "\u001b[34mCollecting aiohappyeyeballs>=2.3.0 (from aiohttp!=4.0.0a0,!=4.0.0a1->s3fs->-r requirements.txt (line 4))\n",
      "  Downloading aiohappyeyeballs-2.4.3-py3-none-any.whl.metadata (6.1 kB)\u001b[0m\n",
      "\u001b[34mCollecting aiosignal>=1.1.2 (from aiohttp!=4.0.0a0,!=4.0.0a1->s3fs->-r requirements.txt (line 4))\n",
      "  Downloading aiosignal-1.3.1-py3-none-any.whl.metadata (4.0 kB)\u001b[0m\n",
      "\u001b[34mCollecting attrs>=17.3.0 (from aiohttp!=4.0.0a0,!=4.0.0a1->s3fs->-r requirements.txt (line 4))\n",
      "  Downloading attrs-24.2.0-py3-none-any.whl.metadata (11 kB)\u001b[0m\n",
      "\u001b[34mCollecting frozenlist>=1.1.1 (from aiohttp!=4.0.0a0,!=4.0.0a1->s3fs->-r requirements.txt (line 4))\n",
      "  Downloading frozenlist-1.4.1-cp38-cp38-manylinux_2_5_x86_64.manylinux1_x86_64.manylinux_2_17_x86_64.manylinux2014_x86_64.whl.metadata (12 kB)\u001b[0m\n",
      "\u001b[34mCollecting multidict<7.0,>=4.5 (from aiohttp!=4.0.0a0,!=4.0.0a1->s3fs->-r requirements.txt (line 4))\n",
      "  Downloading multidict-6.1.0-cp38-cp38-manylinux_2_17_x86_64.manylinux2014_x86_64.whl.metadata (5.0 kB)\u001b[0m\n",
      "\u001b[34mCollecting yarl<2.0,>=1.12.0 (from aiohttp!=4.0.0a0,!=4.0.0a1->s3fs->-r requirements.txt (line 4))\n",
      "  Downloading yarl-1.14.0-cp38-cp38-manylinux_2_17_x86_64.manylinux2014_x86_64.whl.metadata (52 kB)\n",
      "     ━━━━━━━━━━━━━━━━━━━━━━━━━━━━━━━━━━━━━━━━ 52.8/52.8 kB 7.6 MB/s eta 0:00:00\u001b[0m\n",
      "\u001b[34mCollecting async-timeout<5.0,>=4.0 (from aiohttp!=4.0.0a0,!=4.0.0a1->s3fs->-r requirements.txt (line 4))\n",
      "  Downloading async_timeout-4.0.3-py3-none-any.whl.metadata (4.2 kB)\u001b[0m\n",
      "\u001b[34mRequirement already satisfied: six>=1.5 in /miniconda3/lib/python3.8/site-packages (from python-dateutil<3.0.0,>=2.1->botocore==1.31.57->-r requirements.txt (line 6)) (1.15.0)\u001b[0m\n",
      "\u001b[34mCollecting typing_extensions>=4.0 (from aioitertools<1.0.0,>=0.5.1->aiobotocore<3.0.0,>=2.5.4->s3fs->-r requirements.txt (line 4))\n",
      "  Downloading typing_extensions-4.12.2-py3-none-any.whl.metadata (3.0 kB)\u001b[0m\n",
      "\u001b[34mRequirement already satisfied: idna>=2.0 in /miniconda3/lib/python3.8/site-packages (from yarl<2.0,>=1.12.0->aiohttp!=4.0.0a0,!=4.0.0a1->s3fs->-r requirements.txt (line 4)) (3.4)\u001b[0m\n",
      "\u001b[34mCollecting propcache>=0.2.0 (from yarl<2.0,>=1.12.0->aiohttp!=4.0.0a0,!=4.0.0a1->s3fs->-r requirements.txt (line 4))\n",
      "  Downloading propcache-0.2.0-cp38-cp38-manylinux_2_17_x86_64.manylinux2014_x86_64.whl.metadata (7.7 kB)\u001b[0m\n",
      "\u001b[34mDownloading botocore-1.31.57-py3-none-any.whl (11.2 MB)\n",
      "   ━━━━━━━━━━━━━━━━━━━━━━━━━━━━━━━━━━━━━━━━ 11.2/11.2 MB 68.7 MB/s eta 0:00:00\u001b[0m\n",
      "\u001b[34mDownloading fsspec-2024.9.0-py3-none-any.whl (179 kB)\n",
      "   ━━━━━━━━━━━━━━━━━━━━━━━━━━━━━━━━━━━━━━━━ 179.3/179.3 kB 26.4 MB/s eta 0:00:00\u001b[0m\n",
      "\u001b[34mDownloading s3fs-2024.9.0-py3-none-any.whl (29 kB)\u001b[0m\n",
      "\u001b[34mDownloading imbalanced_learn-0.12.4-py3-none-any.whl (258 kB)\n",
      "   ━━━━━━━━━━━━━━━━━━━━━━━━━━━━━━━━━━━━━━━━ 258.3/258.3 kB 34.6 MB/s eta 0:00:00\u001b[0m\n",
      "\u001b[34mDownloading aiobotocore-2.7.0-py3-none-any.whl (73 kB)\n",
      "   ━━━━━━━━━━━━━━━━━━━━━━━━━━━━━━━━━━━━━━━━ 73.5/73.5 kB 11.6 MB/s eta 0:00:00\u001b[0m\n",
      "\u001b[34mDownloading aiohttp-3.10.9-cp38-cp38-manylinux_2_17_x86_64.manylinux2014_x86_64.whl (1.3 MB)\n",
      "   ━━━━━━━━━━━━━━━━━━━━━━━━━━━━━━━━━━━━━━━━ 1.3/1.3 MB 65.9 MB/s eta 0:00:00\u001b[0m\n",
      "\u001b[34mDownloading aiohappyeyeballs-2.4.3-py3-none-any.whl (14 kB)\u001b[0m\n",
      "\u001b[34mDownloading aioitertools-0.12.0-py3-none-any.whl (24 kB)\u001b[0m\n",
      "\u001b[34mDownloading aiosignal-1.3.1-py3-none-any.whl (7.6 kB)\u001b[0m\n",
      "\u001b[34mDownloading async_timeout-4.0.3-py3-none-any.whl (5.7 kB)\u001b[0m\n",
      "\u001b[34mDownloading attrs-24.2.0-py3-none-any.whl (63 kB)\n",
      "   ━━━━━━━━━━━━━━━━━━━━━━━━━━━━━━━━━━━━━━━━ 63.0/63.0 kB 10.5 MB/s eta 0:00:00\u001b[0m\n",
      "\u001b[34mDownloading frozenlist-1.4.1-cp38-cp38-manylinux_2_5_x86_64.manylinux1_x86_64.manylinux_2_17_x86_64.manylinux2014_x86_64.whl (240 kB)\n",
      "   ━━━━━━━━━━━━━━━━━━━━━━━━━━━━━━━━━━━━━━━━ 240.9/240.9 kB 26.3 MB/s eta 0:00:00\u001b[0m\n",
      "\u001b[34mDownloading multidict-6.1.0-cp38-cp38-manylinux_2_17_x86_64.manylinux2014_x86_64.whl (129 kB)\n",
      "   ━━━━━━━━━━━━━━━━━━━━━━━━━━━━━━━━━━━━━━━━ 129.7/129.7 kB 21.3 MB/s eta 0:00:00\u001b[0m\n",
      "\u001b[34mDownloading wrapt-1.16.0-cp38-cp38-manylinux_2_5_x86_64.manylinux1_x86_64.manylinux_2_17_x86_64.manylinux2014_x86_64.whl (83 kB)\n",
      "   ━━━━━━━━━━━━━━━━━━━━━━━━━━━━━━━━━━━━━━━━ 83.4/83.4 kB 13.6 MB/s eta 0:00:00\u001b[0m\n",
      "\u001b[34mDownloading yarl-1.14.0-cp38-cp38-manylinux_2_17_x86_64.manylinux2014_x86_64.whl (318 kB)\n",
      "   ━━━━━━━━━━━━━━━━━━━━━━━━━━━━━━━━━━━━━━━━ 318.3/318.3 kB 38.2 MB/s eta 0:00:00\u001b[0m\n",
      "\u001b[34mDownloading propcache-0.2.0-cp38-cp38-manylinux_2_17_x86_64.manylinux2014_x86_64.whl (213 kB)\n",
      "   ━━━━━━━━━━━━━━━━━━━━━━━━━━━━━━━━━━━━━━━━ 213.6/213.6 kB 31.3 MB/s eta 0:00:00\u001b[0m\n",
      "\u001b[34mDownloading typing_extensions-4.12.2-py3-none-any.whl (37 kB)\u001b[0m\n",
      "\u001b[34mInstalling collected packages: wrapt, typing_extensions, propcache, fsspec, frozenlist, attrs, async-timeout, aiohappyeyeballs, multidict, botocore, aiosignal, aioitertools, yarl, imbalanced-learn, aiohttp, aiobotocore, s3fs\n",
      "  Attempting uninstall: botocore\n",
      "    Found existing installation: botocore 1.31.85\n",
      "    Uninstalling botocore-1.31.85:\u001b[0m\n",
      "\u001b[34m      Successfully uninstalled botocore-1.31.85\u001b[0m\n",
      "\u001b[34mSuccessfully installed aiobotocore-2.7.0 aiohappyeyeballs-2.4.3 aiohttp-3.10.9 aioitertools-0.12.0 aiosignal-1.3.1 async-timeout-4.0.3 attrs-24.2.0 botocore-1.31.57 frozenlist-1.4.1 fsspec-2024.9.0 imbalanced-learn-0.12.4 multidict-6.1.0 propcache-0.2.0 s3fs-2024.9.0 typing_extensions-4.12.2 wrapt-1.16.0 yarl-1.14.0\u001b[0m\n",
      "\u001b[34mWARNING: Running pip as the 'root' user can result in broken permissions and conflicting behaviour with the system package manager. It is recommended to use a virtual environment instead: https://pip.pypa.io/warnings/venv\u001b[0m\n",
      "\u001b[34m2024-10-09 05:23:14,679 sagemaker-training-toolkit INFO     No GPUs detected (normal if no gpus installed)\u001b[0m\n",
      "\u001b[34m2024-10-09 05:23:14,682 sagemaker-training-toolkit INFO     No Neurons detected (normal if no neurons installed)\u001b[0m\n",
      "\u001b[34m2024-10-09 05:23:14,703 sagemaker-training-toolkit INFO     No GPUs detected (normal if no gpus installed)\u001b[0m\n",
      "\u001b[34m2024-10-09 05:23:14,707 sagemaker-training-toolkit INFO     No Neurons detected (normal if no neurons installed)\u001b[0m\n",
      "\u001b[34m2024-10-09 05:23:14,729 sagemaker-training-toolkit INFO     No GPUs detected (normal if no gpus installed)\u001b[0m\n",
      "\u001b[34m2024-10-09 05:23:14,732 sagemaker-training-toolkit INFO     No Neurons detected (normal if no neurons installed)\u001b[0m\n",
      "\u001b[34m2024-10-09 05:23:14,750 sagemaker-training-toolkit INFO     Invoking user script\u001b[0m\n",
      "\u001b[34mTraining Env:\u001b[0m\n",
      "\u001b[34m{\n",
      "    \"additional_framework_parameters\": {},\n",
      "    \"channel_input_dirs\": {},\n",
      "    \"current_host\": \"algo-1\",\n",
      "    \"current_instance_group\": \"homogeneousCluster\",\n",
      "    \"current_instance_group_hosts\": [\n",
      "        \"algo-1\"\n",
      "    ],\n",
      "    \"current_instance_type\": \"ml.m4.xlarge\",\n",
      "    \"distribution_hosts\": [],\n",
      "    \"distribution_instance_groups\": [],\n",
      "    \"framework_module\": \"sagemaker_sklearn_container.training:main\",\n",
      "    \"hosts\": [\n",
      "        \"algo-1\"\n",
      "    ],\n",
      "    \"hyperparameters\": {\n",
      "        \"criterion\": \"gini\",\n",
      "        \"max_depth\": 10,\n",
      "        \"max_features\": \"sqrt\",\n",
      "        \"min_samples_leaf\": 1,\n",
      "        \"min_samples_split\": 2,\n",
      "        \"n_estimators\": 100\n",
      "    },\n",
      "    \"input_config_dir\": \"/opt/ml/input/config\",\n",
      "    \"input_data_config\": {},\n",
      "    \"input_dir\": \"/opt/ml/input\",\n",
      "    \"instance_groups\": [\n",
      "        \"homogeneousCluster\"\n",
      "    ],\n",
      "    \"instance_groups_dict\": {\n",
      "        \"homogeneousCluster\": {\n",
      "            \"instance_group_name\": \"homogeneousCluster\",\n",
      "            \"instance_type\": \"ml.m4.xlarge\",\n",
      "            \"hosts\": [\n",
      "                \"algo-1\"\n",
      "            ]\n",
      "        }\n",
      "    },\n",
      "    \"is_hetero\": false,\n",
      "    \"is_master\": true,\n",
      "    \"is_modelparallel_enabled\": null,\n",
      "    \"is_smddpmprun_installed\": false,\n",
      "    \"is_smddprun_installed\": false,\n",
      "    \"job_name\": \"creditfraud-check-2024-10-09-05-20-10-287\",\n",
      "    \"log_level\": 20,\n",
      "    \"master_hostname\": \"algo-1\",\n",
      "    \"model_dir\": \"/opt/ml/model\",\n",
      "    \"module_dir\": \"s3://sagemaker-us-east-1-235494776661/creditfraud-check-2024-10-09-05-20-10-287/source/sourcedir.tar.gz\",\n",
      "    \"module_name\": \"train\",\n",
      "    \"network_interface_name\": \"eth0\",\n",
      "    \"num_cpus\": 4,\n",
      "    \"num_gpus\": 0,\n",
      "    \"num_neurons\": 0,\n",
      "    \"output_data_dir\": \"/opt/ml/output/data\",\n",
      "    \"output_dir\": \"/opt/ml/output\",\n",
      "    \"output_intermediate_dir\": \"/opt/ml/output/intermediate\",\n",
      "    \"resource_config\": {\n",
      "        \"current_host\": \"algo-1\",\n",
      "        \"current_instance_type\": \"ml.m4.xlarge\",\n",
      "        \"current_group_name\": \"homogeneousCluster\",\n",
      "        \"hosts\": [\n",
      "            \"algo-1\"\n",
      "        ],\n",
      "        \"instance_groups\": [\n",
      "            {\n",
      "                \"instance_group_name\": \"homogeneousCluster\",\n",
      "                \"instance_type\": \"ml.m4.xlarge\",\n",
      "                \"hosts\": [\n",
      "                    \"algo-1\"\n",
      "                ]\n",
      "            }\n",
      "        ],\n",
      "        \"network_interface_name\": \"eth0\"\n",
      "    },\n",
      "    \"user_entry_point\": \"train.py\"\u001b[0m\n",
      "\u001b[34m}\u001b[0m\n",
      "\u001b[34mEnvironment variables:\u001b[0m\n",
      "\u001b[34mSM_HOSTS=[\"algo-1\"]\u001b[0m\n",
      "\u001b[34mSM_NETWORK_INTERFACE_NAME=eth0\u001b[0m\n",
      "\u001b[34mSM_HPS={\"criterion\":\"gini\",\"max_depth\":10,\"max_features\":\"sqrt\",\"min_samples_leaf\":1,\"min_samples_split\":2,\"n_estimators\":100}\u001b[0m\n",
      "\u001b[34mSM_USER_ENTRY_POINT=train.py\u001b[0m\n",
      "\u001b[34mSM_FRAMEWORK_PARAMS={}\u001b[0m\n",
      "\u001b[34mSM_RESOURCE_CONFIG={\"current_group_name\":\"homogeneousCluster\",\"current_host\":\"algo-1\",\"current_instance_type\":\"ml.m4.xlarge\",\"hosts\":[\"algo-1\"],\"instance_groups\":[{\"hosts\":[\"algo-1\"],\"instance_group_name\":\"homogeneousCluster\",\"instance_type\":\"ml.m4.xlarge\"}],\"network_interface_name\":\"eth0\"}\u001b[0m\n",
      "\u001b[34mSM_INPUT_DATA_CONFIG={}\u001b[0m\n",
      "\u001b[34mSM_OUTPUT_DATA_DIR=/opt/ml/output/data\u001b[0m\n",
      "\u001b[34mSM_CHANNELS=[]\u001b[0m\n",
      "\u001b[34mSM_CURRENT_HOST=algo-1\u001b[0m\n",
      "\u001b[34mSM_CURRENT_INSTANCE_TYPE=ml.m4.xlarge\u001b[0m\n",
      "\u001b[34mSM_CURRENT_INSTANCE_GROUP=homogeneousCluster\u001b[0m\n",
      "\u001b[34mSM_CURRENT_INSTANCE_GROUP_HOSTS=[\"algo-1\"]\u001b[0m\n",
      "\u001b[34mSM_INSTANCE_GROUPS=[\"homogeneousCluster\"]\u001b[0m\n",
      "\u001b[34mSM_INSTANCE_GROUPS_DICT={\"homogeneousCluster\":{\"hosts\":[\"algo-1\"],\"instance_group_name\":\"homogeneousCluster\",\"instance_type\":\"ml.m4.xlarge\"}}\u001b[0m\n",
      "\u001b[34mSM_DISTRIBUTION_INSTANCE_GROUPS=[]\u001b[0m\n",
      "\u001b[34mSM_IS_HETERO=false\u001b[0m\n",
      "\u001b[34mSM_MODULE_NAME=train\u001b[0m\n",
      "\u001b[34mSM_LOG_LEVEL=20\u001b[0m\n",
      "\u001b[34mSM_FRAMEWORK_MODULE=sagemaker_sklearn_container.training:main\u001b[0m\n",
      "\u001b[34mSM_INPUT_DIR=/opt/ml/input\u001b[0m\n",
      "\u001b[34mSM_INPUT_CONFIG_DIR=/opt/ml/input/config\u001b[0m\n",
      "\u001b[34mSM_OUTPUT_DIR=/opt/ml/output\u001b[0m\n",
      "\u001b[34mSM_NUM_CPUS=4\u001b[0m\n",
      "\u001b[34mSM_NUM_GPUS=0\u001b[0m\n",
      "\u001b[34mSM_NUM_NEURONS=0\u001b[0m\n",
      "\u001b[34mSM_MODEL_DIR=/opt/ml/model\u001b[0m\n",
      "\u001b[34mSM_MODULE_DIR=s3://sagemaker-us-east-1-235494776661/creditfraud-check-2024-10-09-05-20-10-287/source/sourcedir.tar.gz\u001b[0m\n",
      "\u001b[34mSM_TRAINING_ENV={\"additional_framework_parameters\":{},\"channel_input_dirs\":{},\"current_host\":\"algo-1\",\"current_instance_group\":\"homogeneousCluster\",\"current_instance_group_hosts\":[\"algo-1\"],\"current_instance_type\":\"ml.m4.xlarge\",\"distribution_hosts\":[],\"distribution_instance_groups\":[],\"framework_module\":\"sagemaker_sklearn_container.training:main\",\"hosts\":[\"algo-1\"],\"hyperparameters\":{\"criterion\":\"gini\",\"max_depth\":10,\"max_features\":\"sqrt\",\"min_samples_leaf\":1,\"min_samples_split\":2,\"n_estimators\":100},\"input_config_dir\":\"/opt/ml/input/config\",\"input_data_config\":{},\"input_dir\":\"/opt/ml/input\",\"instance_groups\":[\"homogeneousCluster\"],\"instance_groups_dict\":{\"homogeneousCluster\":{\"hosts\":[\"algo-1\"],\"instance_group_name\":\"homogeneousCluster\",\"instance_type\":\"ml.m4.xlarge\"}},\"is_hetero\":false,\"is_master\":true,\"is_modelparallel_enabled\":null,\"is_smddpmprun_installed\":false,\"is_smddprun_installed\":false,\"job_name\":\"creditfraud-check-2024-10-09-05-20-10-287\",\"log_level\":20,\"master_hostname\":\"algo-1\",\"model_dir\":\"/opt/ml/model\",\"module_dir\":\"s3://sagemaker-us-east-1-235494776661/creditfraud-check-2024-10-09-05-20-10-287/source/sourcedir.tar.gz\",\"module_name\":\"train\",\"network_interface_name\":\"eth0\",\"num_cpus\":4,\"num_gpus\":0,\"num_neurons\":0,\"output_data_dir\":\"/opt/ml/output/data\",\"output_dir\":\"/opt/ml/output\",\"output_intermediate_dir\":\"/opt/ml/output/intermediate\",\"resource_config\":{\"current_group_name\":\"homogeneousCluster\",\"current_host\":\"algo-1\",\"current_instance_type\":\"ml.m4.xlarge\",\"hosts\":[\"algo-1\"],\"instance_groups\":[{\"hosts\":[\"algo-1\"],\"instance_group_name\":\"homogeneousCluster\",\"instance_type\":\"ml.m4.xlarge\"}],\"network_interface_name\":\"eth0\"},\"user_entry_point\":\"train.py\"}\u001b[0m\n",
      "\u001b[34mSM_USER_ARGS=[\"--criterion\",\"gini\",\"--max_depth\",\"10\",\"--max_features\",\"sqrt\",\"--min_samples_leaf\",\"1\",\"--min_samples_split\",\"2\",\"--n_estimators\",\"100\"]\u001b[0m\n",
      "\u001b[34mSM_OUTPUT_INTERMEDIATE_DIR=/opt/ml/output/intermediate\u001b[0m\n",
      "\u001b[34mSM_HP_CRITERION=gini\u001b[0m\n",
      "\u001b[34mSM_HP_MAX_DEPTH=10\u001b[0m\n",
      "\u001b[34mSM_HP_MAX_FEATURES=sqrt\u001b[0m\n",
      "\u001b[34mSM_HP_MIN_SAMPLES_LEAF=1\u001b[0m\n",
      "\u001b[34mSM_HP_MIN_SAMPLES_SPLIT=2\u001b[0m\n",
      "\u001b[34mSM_HP_N_ESTIMATORS=100\u001b[0m\n",
      "\u001b[34mPYTHONPATH=/opt/ml/code:/miniconda3/bin:/miniconda3/lib/python38.zip:/miniconda3/lib/python3.8:/miniconda3/lib/python3.8/lib-dynload:/miniconda3/lib/python3.8/site-packages\u001b[0m\n",
      "\u001b[34mInvoking script with the following command:\u001b[0m\n",
      "\u001b[34m/miniconda3/bin/python train.py --criterion gini --max_depth 10 --max_features sqrt --min_samples_leaf 1 --min_samples_split 2 --n_estimators 100\u001b[0m\n",
      "\u001b[34m2024-10-09 05:23:14,751 sagemaker-training-toolkit INFO     Exceptions not imported for SageMaker Debugger as it is not installed.\u001b[0m\n",
      "\u001b[34m2024-10-09 05:23:14,752 sagemaker-training-toolkit INFO     Exceptions not imported for SageMaker TF as Tensorflow is not installed.\u001b[0m\n",
      "\u001b[34mTraining Accuracy: 0.9884\u001b[0m\n",
      "\u001b[34mTesting Accuracy: 0.9986\u001b[0m\n",
      "\u001b[34mClassification Report:\n",
      "               precision    recall  f1-score   support\n",
      "           0       1.00      1.00      1.00     56660\n",
      "           1       0.52      0.80      0.63        86\n",
      "    accuracy                           1.00     56746\n",
      "   macro avg       0.76      0.90      0.81     56746\u001b[0m\n",
      "\u001b[34mweighted avg       1.00      1.00      1.00     56746\u001b[0m\n",
      "\u001b[34mAUC ROC Score: 0.90\u001b[0m\n",
      "\u001b[34mConfusion Matrix:\n",
      " [[56596    64]\n",
      " [   17    69]]\u001b[0m\n",
      "\u001b[34mShape of trainX: (90636, 30)\u001b[0m\n",
      "\u001b[34mShape of trainY: (90636,)\u001b[0m\n",
      "\u001b[34mShape of testX: (56746, 30)\u001b[0m\n",
      "\u001b[34mShape of testY: (56746,)\u001b[0m\n",
      "\u001b[34mValue counts for trainY:\u001b[0m\n",
      "\u001b[34m1    45318\u001b[0m\n",
      "\u001b[34m0    45318\u001b[0m\n",
      "\u001b[34mName: Class, dtype: int64\u001b[0m\n",
      "\u001b[34mValue counts for testY:\u001b[0m\n",
      "\u001b[34m0    56660\u001b[0m\n",
      "\u001b[34m1       86\u001b[0m\n",
      "\u001b[34mName: Class, dtype: int64\u001b[0m\n",
      "\u001b[34mModel saved at /opt/ml/model/creditfraudpmc.joblib\u001b[0m\n",
      "\u001b[34m2024-10-09 05:24:01,447 sagemaker-containers INFO     Reporting training SUCCESS\u001b[0m\n",
      "\n",
      "2024-10-09 05:24:06 Uploading - Uploading generated training model\n",
      "2024-10-09 05:24:19 Completed - Training job completed\n",
      "Training seconds: 178\n",
      "Billable seconds: 73\n",
      "Managed Spot Training savings: 59.0%\n"
     ]
    }
   ],
   "source": [
    "#Creating a execution role for running the model and specifying the hyperparameters\n",
    "#Including Spot Instances = True to save training costs\n",
    "\n",
    "from sagemaker.sklearn.estimator import SKLearn\n",
    "from sagemaker import get_execution_role\n",
    "\n",
    "sklearn_estimator = SKLearn(\n",
    "    base_job_name=\"creditfraud-check\",\n",
    "    framework_version=\"1.0-1\",\n",
    "    entry_point=\"train.py\",\n",
    "    dependencies=[\"requirements.txt\"],\n",
    "    hyperparameters={\n",
    "        \"n_estimators\": 100,\n",
    "        \"min_samples_split\": int(2),\n",
    "        \"min_samples_leaf\":1,\n",
    "        \"max_depth\": 10,\n",
    "        \"max_features\": \"sqrt\",\n",
    "        \"criterion\": \"gini\"},\n",
    "    instance_count=1,\n",
    "    instance_type=\"ml.m4.xlarge\",\n",
    "    use_spot_instances=True,\n",
    "    max_wait=600,\n",
    "    max_run=600,\n",
    "    role=get_execution_role(),\n",
    ")\n",
    "\n",
    "# Launch Training job\n",
    "sklearn_estimator.fit()"
   ]
  },
  {
   "cell_type": "markdown",
   "id": "adbc5cb1",
   "metadata": {},
   "source": [
    "#### - Out of all transactions classified as fraud, 80% are correctly identified. (69 out of 86) \n",
    "#### - This is a satisfactory working result, considering the imbalance in the original dataset and that most fraud rows in the training set were synthetic oversampled rows.\n",
    "#### - F1 score is 63% which is an evaluation of how well the model identifies genuine vs fraud.\n",
    "#### - Priority for a bank manager would be placed on the correctly identified fraud transactions more than the misidentified genuine transactions but it is also necessary to prevent too many genuine transactions as being misclassified as fraud. "
   ]
  },
  {
   "cell_type": "code",
   "execution_count": 78,
   "id": "98db8c5f",
   "metadata": {},
   "outputs": [
    {
     "name": "stdout",
     "output_type": "stream",
     "text": [
      "Training job name: creditfraud-check-2024-10-09-05-20-10-287\n",
      "Model storage location: s3://sagemaker-us-east-1-235494776661/creditfraud-check-2024-10-09-05-20-10-287/output/model.tar.gz\n"
     ]
    }
   ],
   "source": [
    "import boto3\n",
    "sm_client = boto3.client(\"sagemaker\")\n",
    "\n",
    "training_job_name = sklearn_estimator.latest_training_job.name\n",
    "\n",
    "#Location of the model training job from S3. This will be needed as input for model deployment code.\n",
    "model_artifact = sm_client.describe_training_job(TrainingJobName=training_job_name)[\"ModelArtifacts\"][\"S3ModelArtifacts\"]\n",
    "\n",
    "print(f\"Training job name: {training_job_name}\")\n",
    "print(f\"Model storage location: {model_artifact}\")"
   ]
  },
  {
   "cell_type": "markdown",
   "id": "dda52f57",
   "metadata": {},
   "source": [
    "## Hyperparameter tuning"
   ]
  },
  {
   "cell_type": "markdown",
   "id": "bd03dfca",
   "metadata": {},
   "source": [
    "#### - I have not used hyperparameter tuning within Sagemaker here, because evaluation was as per project expectations and tuning hyperparameters would not influence the results in the trials I ran. I have already used trial and error during the variation runs to train model multiple times.  \n",
    "\n",
    "#### - Key hyperparameters used were max depth (to control how deep the tree could grow in terms of split). Limiting the max depth reduced overfitting and reducing it too low made the model training poor. These were used for Random Forest and XGB Classifiers.  \n",
    "\n",
    "#### - For XGB in trials I also used Gamma, increasing the Gamma reduced overfitting. (Gamma decides to make a split on a leaf node or not, based on loss reduction)\n",
    "\n",
    "#### - Code for Random Forest Classifier Hyperparameter Tuning has been left below for project scope and has not been used ..."
   ]
  },
  {
   "cell_type": "code",
   "execution_count": null,
   "id": "b47387c1",
   "metadata": {},
   "outputs": [],
   "source": [
    "# NOT USED\n",
    "\n",
    "import re\n",
    "from sagemaker.tuner import HyperparameterTuner, IntegerParameter, ContinuousParameter, CategoricalParameter\n",
    "\n",
    "\n",
    "hyperparameter_ranges = {\n",
    "    \"n_estimators\": CategoricalParameter([80, 100]),\n",
    "    \"min_samples_split\": CategoricalParameter([2, 4]),\n",
    "    \"min_samples_leaf\": CategoricalParameter([2, 4]),\n",
    "    }\n",
    "\n",
    "\n",
    "optimizer = HyperparameterTuner(\n",
    "    base_tuning_job_name=\"hyperparametercheck\",\n",
    "    estimator=sklearn_estimator,\n",
    "    hyperparameter_ranges=hyperparameter_ranges,\n",
    "    objective_type=\"Maximize\",\n",
    "    objective_metric_name=\"test-accuracy\",\n",
    "    metric_definitions=[\n",
    "        {\"Name\": \"train-accuracy\", \"Regex\": \"Training Accuracy: ([0-9.]+).*$\"},\n",
    "        {\"Name\": \"test-accuracy\", \"Regex\": \"Testing Accuracy: ([0-9.]+).*$\"}\n",
    "    ],\n",
    "    max_jobs=10,\n",
    "    max_parallel_jobs=2,\n",
    ")\n",
    "\n",
    "\n",
    "optimizer.fit()"
   ]
  },
  {
   "cell_type": "markdown",
   "id": "2efe267e",
   "metadata": {},
   "source": [
    "## Serve.py file\n",
    "#### Serve.py file is needed to define functions to load the endpoint inputs as json files, process the file to match the input of the train set, make predictions on input and return the predictions as a json file. It is fed into the model deployment segment. "
   ]
  },
  {
   "cell_type": "code",
   "execution_count": 79,
   "id": "a674a33a",
   "metadata": {},
   "outputs": [
    {
     "name": "stdout",
     "output_type": "stream",
     "text": [
      "Overwriting serve.py\n"
     ]
    }
   ],
   "source": [
    "%%writefile serve.py\n",
    "\n",
    "import os\n",
    "import joblib\n",
    "import pandas as pd\n",
    "import numpy as np\n",
    "\n",
    "def model_fn(model_dir):\n",
    "    model_file_name = \"creditfraudpmc.joblib\"\n",
    "    pipeline_model = joblib.load(os.path.join(model_dir, model_file_name))\n",
    "    \n",
    "    return pipeline_model\n",
    "      \n",
    "def input_fn(request_body, request_content_type):\n",
    "    if request_content_type == \"application/json\":\n",
    "        input_object = pd.read_json(request_body, lines=True)\n",
    "        \n",
    "        #Only one preprocessing command entered to drop the target column from prediction dataset        \n",
    "        def remove_target (db):\n",
    "            db = db.drop(columns = [\"Class\"])\n",
    "            return db\n",
    "        \n",
    "        input_object = remove_target (input_object)\n",
    "        \n",
    "        return input_object\n",
    "    else:\n",
    "        raise ValueError(\"Application/json content type only\")        \n",
    "\n",
    "def predict_fn(input_object, pipeline_model):\n",
    "    predictions = pipeline_model.predict(input_object)\n",
    "    pred_probs = pipeline_model.predict_proba(input_object)\n",
    "    \n",
    "    prediction_object = pd.DataFrame(\n",
    "        {\n",
    "            \"prediction\": predictions.tolist(),\n",
    "            \"pred_prob_class0\": pred_probs[:, 0].tolist(),\n",
    "            \"pred_prob_class1\": pred_probs[:, 1].tolist()\n",
    "        }\n",
    "    )\n",
    "    \n",
    "    return prediction_object\n",
    "\n",
    "def output_fn(prediction_object, request_content_type):\n",
    "    return_object = prediction_object.to_json(orient=\"records\", lines=True)\n",
    "    \n",
    "    return return_object"
   ]
  },
  {
   "cell_type": "code",
   "execution_count": 80,
   "id": "1492f5bf",
   "metadata": {},
   "outputs": [
    {
     "name": "stdout",
     "output_type": "stream",
     "text": [
      "Overwriting requirements.txt\n"
     ]
    }
   ],
   "source": [
    "%%writefile requirements.txt\n",
    "pandas\n",
    "numpy\n",
    "scikit-learn"
   ]
  },
  {
   "cell_type": "markdown",
   "id": "e80a8333",
   "metadata": {},
   "source": [
    "## Model Endpoint Deployment"
   ]
  },
  {
   "cell_type": "code",
   "execution_count": 81,
   "id": "3701e526",
   "metadata": {},
   "outputs": [],
   "source": [
    "from sagemaker.sklearn.model import SKLearnModel\n",
    "from sagemaker import Session, get_execution_role\n",
    "\n",
    "session = Session()\n",
    "bucket = session.default_bucket()\n",
    "\n",
    "#Creating an endpoint and defining the training job as the model used to predict data requested by endpoint users  \n",
    "training_job_name = \"creditfraud-check-2024-10-09-05-20-10-287\"\n",
    "model_artifact = f\"s3://{bucket}/{training_job_name}/output/model.tar.gz\"\n",
    "endpoint_name = \"creditfraud\"\n",
    "\n",
    "model = SKLearnModel(\n",
    "    name=endpoint_name,\n",
    "    framework_version=\"1.0-1\",\n",
    "    entry_point=\"serve.py\",\n",
    "    dependencies=[\"requirements.txt\"],\n",
    "    model_data=model_artifact,\n",
    "    role=get_execution_role(),\n",
    "    sagemaker_session = session\n",
    ")"
   ]
  },
  {
   "cell_type": "code",
   "execution_count": null,
   "id": "647fbbff",
   "metadata": {},
   "outputs": [],
   "source": []
  },
  {
   "cell_type": "markdown",
   "id": "1972da66",
   "metadata": {},
   "source": [
    "## Serverless Endpoint"
   ]
  },
  {
   "cell_type": "code",
   "execution_count": 82,
   "id": "2014daa7",
   "metadata": {},
   "outputs": [],
   "source": [
    "from sagemaker.serverless import ServerlessInferenceConfig\n",
    "\n",
    "#Defining Serverless that can run 4 requests concurrently\n",
    "serverless_config = ServerlessInferenceConfig(memory_size_in_mb=1024, \n",
    "                                              max_concurrency=4)"
   ]
  },
  {
   "cell_type": "code",
   "execution_count": 83,
   "id": "58cc0bd4",
   "metadata": {},
   "outputs": [
    {
     "name": "stderr",
     "output_type": "stream",
     "text": [
      "INFO:sagemaker.image_uris:Defaulting to only supported image scope: cpu.\n",
      "INFO:sagemaker:Creating model with name: creditfraud\n",
      "INFO:sagemaker:Creating endpoint-config with name creditfraud-2024-10-09-05-29-39-503\n",
      "INFO:sagemaker:Creating endpoint with name creditfraud-2024-10-09-05-29-39-503\n"
     ]
    },
    {
     "name": "stdout",
     "output_type": "stream",
     "text": [
      "------!"
     ]
    }
   ],
   "source": [
    "#Deploying the model at an endpoint \n",
    "predictor = model.deploy(serverless_inference_config=serverless_config)"
   ]
  },
  {
   "cell_type": "code",
   "execution_count": 84,
   "id": "705eada4",
   "metadata": {
    "scrolled": true
   },
   "outputs": [
    {
     "name": "stdout",
     "output_type": "stream",
     "text": [
      "Endpoint name:\n",
      "creditfraud-2024-10-09-05-29-39-503\n"
     ]
    }
   ],
   "source": [
    "# Endpoint name is needed to feed into the cleanup function \n",
    "endpoint_name = predictor.endpoint_name\n",
    "print(\"Endpoint name:\")\n",
    "print(f\"{endpoint_name}\")"
   ]
  },
  {
   "cell_type": "markdown",
   "id": "e38aaaa9",
   "metadata": {},
   "source": [
    "## Checking the endpoint"
   ]
  },
  {
   "cell_type": "code",
   "execution_count": 85,
   "id": "8d84660c",
   "metadata": {},
   "outputs": [],
   "source": [
    "# Loading sample data to predict\n",
    "import pandas as pd\n",
    "\n",
    "check_df = pd.read_csv(\"s3://sagemaker-us-east-1-235494776661/sagemaker/creditcardfraud/testX_pathcreditcard\")\n",
    "check_df_sample = check_df.sample(n=5)\n",
    "X_pred = check_df_sample.to_json(orient=\"records\", lines=True)"
   ]
  },
  {
   "cell_type": "code",
   "execution_count": 86,
   "id": "0492eec8",
   "metadata": {},
   "outputs": [],
   "source": [
    "# Submit to the endpoint\n",
    "import boto3\n",
    "\n",
    "sm_runtime = boto3.client(\"sagemaker-runtime\")\n",
    "\n",
    "response = sm_runtime.invoke_endpoint(EndpointName=endpoint_name, \n",
    "                                      Body=X_pred, \n",
    "                                      ContentType=\"application/json\", \n",
    "                                      Accept=\"application/json\")"
   ]
  },
  {
   "cell_type": "code",
   "execution_count": 87,
   "id": "85acfed4",
   "metadata": {},
   "outputs": [],
   "source": [
    "# Decode the response from the endpoint\n",
    "response_body = response['Body']\n",
    "response_str = response_body.read().decode('utf-8')\n",
    "response_df = pd.read_json(response_str, lines=True)"
   ]
  },
  {
   "cell_type": "code",
   "execution_count": 88,
   "id": "4e3247ef",
   "metadata": {},
   "outputs": [
    {
     "data": {
      "text/plain": [
       "0    0\n",
       "1    0\n",
       "2    0\n",
       "3    0\n",
       "4    0\n",
       "Name: prediction, dtype: int64"
      ]
     },
     "execution_count": 88,
     "metadata": {},
     "output_type": "execute_result"
    }
   ],
   "source": [
    "#Predicted sample (ONLY FOR DEMONSTRATION)\n",
    "response_df[\"prediction\"]"
   ]
  },
  {
   "cell_type": "code",
   "execution_count": 89,
   "id": "26c50eaf",
   "metadata": {},
   "outputs": [
    {
     "data": {
      "text/plain": [
       "3937     0\n",
       "2462     0\n",
       "26568    0\n",
       "20068    0\n",
       "4395     0\n",
       "Name: Class, dtype: int64"
      ]
     },
     "execution_count": 89,
     "metadata": {},
     "output_type": "execute_result"
    }
   ],
   "source": [
    "#Original sample for comparison\n",
    "check_df_sample[\"Class\"]"
   ]
  },
  {
   "cell_type": "markdown",
   "id": "c4243c2a",
   "metadata": {},
   "source": [
    "## Cleanup "
   ]
  },
  {
   "cell_type": "code",
   "execution_count": 90,
   "id": "56ede809",
   "metadata": {},
   "outputs": [],
   "source": [
    "import boto3\n",
    "\n",
    "def cleanup(endpoint_name):\n",
    "    sm_client = boto3.client(\"sagemaker\")\n",
    "\n",
    "    # Get the model name from endpoint_name\n",
    "    response = sm_client.describe_endpoint_config(EndpointConfigName=endpoint_name)\n",
    "\n",
    "    # Delete the endpoint\n",
    "    sm_client.delete_endpoint(EndpointName=endpoint_name)\n",
    "\n",
    "    # Delete the endpoint config\n",
    "    endpoint_config_name = response['EndpointConfigName']\n",
    "    sm_client.delete_endpoint_config(EndpointConfigName=endpoint_config_name)                        \n",
    "\n",
    "    # Delete the model\n",
    "    model_name = response['ProductionVariants'][0]['ModelName']\n",
    "    sm_client.delete_model(ModelName=model_name)"
   ]
  },
  {
   "cell_type": "code",
   "execution_count": 91,
   "id": "4be2890a",
   "metadata": {},
   "outputs": [],
   "source": [
    "# Run the cleanup\n",
    "cleanup(\"creditfraud-2024-10-09-05-29-39-503\")"
   ]
  },
  {
   "cell_type": "code",
   "execution_count": null,
   "id": "a3200aa9",
   "metadata": {},
   "outputs": [],
   "source": []
  }
 ],
 "metadata": {
  "kernelspec": {
   "display_name": "Python 3 (ipykernel)",
   "language": "python",
   "name": "python3"
  },
  "language_info": {
   "codemirror_mode": {
    "name": "ipython",
    "version": 3
   },
   "file_extension": ".py",
   "mimetype": "text/x-python",
   "name": "python",
   "nbconvert_exporter": "python",
   "pygments_lexer": "ipython3",
   "version": "3.11.5"
  }
 },
 "nbformat": 4,
 "nbformat_minor": 5
}
